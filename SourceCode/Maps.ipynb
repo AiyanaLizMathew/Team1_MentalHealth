{
 "cells": [
  {
   "cell_type": "code",
   "execution_count": 6,
   "metadata": {
    "collapsed": true
   },
   "outputs": [],
   "source": [
    "import plotly.plotly as py\n",
    "from plotly.graph_objs import *\n",
    "import pandas as pd\n",
    "from ipywidgets import widgets\n",
    "import numpy as np\n",
    "py.sign_in(\"AiyanaLiz\",\"Z6MKsOREXRbRxXfILtoe\")\n",
    "import os"
   ]
  },
  {
   "cell_type": "code",
   "execution_count": 7,
   "metadata": {
    "scrolled": true
   },
   "outputs": [
    {
     "name": "stdout",
     "output_type": "stream",
     "text": [
      "Completed MentalHealth2012.csv\n",
      "Completed MentalHealth2013.csv\n",
      "Completed MentalHealth2014.csv\n",
      "Completed MentalHealth2015.csv\n",
      "Completed MentalHealth2016.csv\n"
     ]
    }
   ],
   "source": [
    "year_list=[\"2012\",\"2013\",\"2014\",\"2015\",\"2016\"]\n",
    "file_names=\"MentalHealth\"\n",
    "All_DF={}\n",
    "for years in year_list:\n",
    "    filename=file_names+years+\".csv\"\n",
    "    outputfilepath=os.path.join(\"raw_data\",\"output\",filename)\n",
    "    All_DF[years]=pd.read_csv(outputfilepath,low_memory=False)\n",
    "    print(\"Completed %s\"%filename)"
   ]
  },
  {
   "cell_type": "code",
   "execution_count": 41,
   "metadata": {},
   "outputs": [
    {
     "data": {
      "text/html": [
       "<iframe id=\"igraph\" scrolling=\"no\" style=\"border:none;\" seamless=\"seamless\" src=\"https://plot.ly/~AiyanaLiz/28.embed\" height=\"525px\" width=\"100%\"></iframe>"
      ],
      "text/plain": [
       "<plotly.tools.PlotlyDisplay object>"
      ]
     },
     "execution_count": 41,
     "metadata": {},
     "output_type": "execute_result"
    }
   ],
   "source": [
    "year=\"2016\"\n",
    "All_DF[year]=All_DF[year][All_DF[year]['Calc_MentalHealth_Value']>40]\n",
    "NDF=All_DF[year].pivot_table(index=\"State\", values=\"Calc_MentalHealth_Value\",aggfunc=\"count\")\n",
    "\n",
    "trace1 = {\n",
    "          \"z\": NDF[\"Calc_MentalHealth_Value\"],\n",
    "          \"colorbar\": {\n",
    "                        \"lenmode\": \"pixels\", \n",
    "                        \"title\": \"Population\", \n",
    "                        \"titleside\": \"right\", \n",
    "                        \"xpad\": 0, \n",
    "                        \"ypad\": 0\n",
    "                      },\n",
    "          \"colorscale\": [\n",
    "              [0, \"#D4FFCA\"], \n",
    "              [0.111111111111, \"#C9F2C0\"], \n",
    "              [0.222222222222, \"#AFD6A6\"], \n",
    "              [0.333333333333, \"#92B08B\"], \n",
    "              [0.444444444444, \"#6F9267\"], \n",
    "              [0.555555555556, \"#4F7E44\"], \n",
    "              [0.666666666667, \"#396D2D\"], \n",
    "              [0.777777777778, \"#235418\"], \n",
    "              [0.888888888889, \"#0B2B04\"], \n",
    "              [1, \"#030F00\"]], \n",
    "          \"locationmode\": \"USA-states\", \n",
    "          \"locations\": NDF.index.values, \n",
    "          \"marker\": {\"line\": {\n",
    "              \"color\": \"rgba(255,255,255,1)\", \n",
    "              \"width\": 1\n",
    "                    }}, \n",
    "          \"type\": \"choropleth\"\n",
    "        }\n",
    "data = Data([trace1])\n",
    "layout = {\n",
    "          \"font\": {\n",
    "                    \"color\": \"rgb(9, 19, 60)\", \n",
    "                    \"family\": \"Times New Roman\", \n",
    "                    \"size\": 15\n",
    "                  }, \n",
    "          \"geo\":  {\n",
    "            \"projection\": {\"scale\": 0.870550563296}, \n",
    "            \"scope\": \"usa\"\n",
    "                  }, \n",
    "          \"title\": \"<b>Mental Health Depression across US for %s</b>\"%year, \n",
    "          \"titlefont\": {\n",
    "                        \"color\": \"rgb(28, 13, 92)\", \n",
    "                        \"family\": \"Times New Roman\", \n",
    "                        \"size\": 20\n",
    "                      }\n",
    "        }\n",
    "fig = Figure(data=data, layout=layout)\n",
    "\n",
    "py.iplot(fig,filename=\"Mental Health Depression across US for %s\"%year)\n",
    "\n"
   ]
  },
  {
   "cell_type": "code",
   "execution_count": 36,
   "metadata": {},
   "outputs": [
    {
     "data": {
      "text/html": [
       "<img src=\"https://plot.ly/~AiyanaLiz/22.embed\">"
      ],
      "text/plain": [
       "<IPython.core.display.HTML object>"
      ]
     },
     "metadata": {},
     "output_type": "display_data"
    }
   ],
   "source": [
    "%%html\n",
    "<img src=\"https://cloud.githubusercontent.com/assets/12302455/16567268/929e1f46-41ea-11e6-8163-096e5a4f4502.gif\">"
   ]
  },
  {
   "cell_type": "code",
   "execution_count": null,
   "metadata": {
    "collapsed": true
   },
   "outputs": [],
   "source": []
  }
 ],
 "metadata": {
  "kernelspec": {
   "display_name": "Python 3",
   "language": "python",
   "name": "python3"
  },
  "language_info": {
   "codemirror_mode": {
    "name": "ipython",
    "version": 3
   },
   "file_extension": ".py",
   "mimetype": "text/x-python",
   "name": "python",
   "nbconvert_exporter": "python",
   "pygments_lexer": "ipython3",
   "version": "3.6.3"
  }
 },
 "nbformat": 4,
 "nbformat_minor": 2
}
