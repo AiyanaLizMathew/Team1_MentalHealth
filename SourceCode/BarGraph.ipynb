{
 "cells": [
  {
   "cell_type": "code",
   "execution_count": 1,
   "metadata": {},
   "outputs": [
    {
     "name": "stderr",
     "output_type": "stream",
     "text": [
      "C:\\Users\\User\\Anaconda3\\envs\\PythonData1\\lib\\site-packages\\IPython\\html.py:14: ShimWarning:\n",
      "\n",
      "The `IPython.html` package has been deprecated since IPython 4.0. You should import from `notebook` instead. `IPython.html.widgets` has moved to `ipywidgets`.\n",
      "\n",
      "C:\\Users\\User\\Anaconda3\\envs\\PythonData1\\lib\\site-packages\\plotly\\widgets\\graph_widget.py:13: UserWarning:\n",
      "\n",
      "IPython.utils.traitlets has moved to a top-level traitlets package.\n",
      "\n"
     ]
    },
    {
     "data": {
      "application/javascript": [
       "window.genUID = function() {\n",
       "    return 'xxxxxxxx-xxxx-4xxx-yxxx-xxxxxxxxxxxx'.replace(/[xy]/g, function(c) {\n",
       "        var r = Math.random()*16|0, v = c == 'x' ? r : (r&0x3|0x8);\n",
       "        return v.toString(16);\n",
       "    });\n",
       "};\n",
       "\n",
       "var IPYTHON_VERSION = '3';\n",
       "\n",
       "require([\"widgets/js/widget\", \"widgets/js/manager\"], function (widget, manager) {\n",
       "    if (!('DOMWidgetView' in widget)) {\n",
       "\n",
       "        // we're in IPython2, things moved a bit from 2 --> 3.\n",
       "        // construct the expected IPython3 widget API\n",
       "        IPYTHON_VERSION = '2';\n",
       "        manager = {WidgetManager: widget};\n",
       "        widget = {DOMWidgetView: IPython.DOMWidgetView};\n",
       "    }\n",
       "\n",
       "    var GraphView = widget.DOMWidgetView.extend({\n",
       "        render: function(){\n",
       "            var that = this;\n",
       "\n",
       "            var graphId = window.genUID();\n",
       "            var loadingId = 'loading-'+graphId;\n",
       "\n",
       "\n",
       "            var _graph_url = that.model.get('_graph_url');\n",
       "\n",
       "            // variable plotlyDomain in the case of enterprise\n",
       "            var url_parts = _graph_url.split('/');\n",
       "            var plotlyDomain = url_parts[0] + '//' + url_parts[2];\n",
       "\n",
       "            if(!('plotlyDomains' in window)){\n",
       "                window.plotlyDomains = {};\n",
       "            }\n",
       "            window.plotlyDomains[graphId] = plotlyDomain;\n",
       "\n",
       "            // Place IFrame in output cell div `$el`\n",
       "            that.$el.css('width', '100%');\n",
       "            that.$graph = $(['<iframe id=\"'+graphId+'\"',\n",
       "                             'src=\"'+_graph_url+'.embed\"',\n",
       "                             'seamless',\n",
       "                             'style=\"border: none;\"',\n",
       "                             'width=\"100%\"',\n",
       "                             'height=\"600\">',\n",
       "                             '</iframe>'].join(' '));\n",
       "            that.$graph.appendTo(that.$el);\n",
       "\n",
       "            that.$loading = $('<div id=\"'+loadingId+'\">Initializing...</div>')\n",
       "                            .appendTo(that.$el);\n",
       "\n",
       "            // for some reason the 'width' is being changed in IPython 3.0.0\n",
       "            // for the containing `div` element. There's a flicker here, but\n",
       "            // I was unable to fix it otherwise.\n",
       "            setTimeout(function ()  {\n",
       "                if (IPYTHON_VERSION === '3') {\n",
       "                    $('#' + graphId)[0].parentElement.style.width = '100%';\n",
       "                }\n",
       "            }, 500);\n",
       "\n",
       "            // initialize communication with the iframe\n",
       "            if(!('pingers' in window)){\n",
       "                window.pingers = {};\n",
       "            }\n",
       "\n",
       "            window.pingers[graphId] = setInterval(function() {\n",
       "                that.graphContentWindow = $('#'+graphId)[0].contentWindow;\n",
       "                that.graphContentWindow.postMessage({task: 'ping'}, plotlyDomain);\n",
       "            }, 200);\n",
       "\n",
       "            // Assign a message listener to the 'message' events\n",
       "            // from iframe's postMessage protocol.\n",
       "            // Filter the messages by iframe src so that the right message\n",
       "            // gets passed to the right widget\n",
       "            if(!('messageListeners' in window)){\n",
       "                 window.messageListeners = {};\n",
       "            }\n",
       "\n",
       "            window.messageListeners[graphId] = function(e) {\n",
       "                if(_graph_url.indexOf(e.origin)>-1) {\n",
       "                    var frame = document.getElementById(graphId);\n",
       "\n",
       "                    if(frame === null){\n",
       "                        // frame doesn't exist in the dom anymore, clean up it's old event listener\n",
       "                        window.removeEventListener('message', window.messageListeners[graphId]);\n",
       "                        clearInterval(window.pingers[graphId]);\n",
       "                    } else if(frame.contentWindow === e.source) {\n",
       "                        // TODO: Stop event propagation, so each frame doesn't listen and filter\n",
       "                        var frameContentWindow = $('#'+graphId)[0].contentWindow;\n",
       "                        var message = e.data;\n",
       "\n",
       "                        if('pong' in message && message.pong) {\n",
       "                            $('#loading-'+graphId).hide();\n",
       "                            clearInterval(window.pingers[graphId]);\n",
       "                            that.send({event: 'pong', graphId: graphId});\n",
       "                        } else if (message.type==='hover' ||\n",
       "                                   message.type==='zoom'  ||\n",
       "                                   message.type==='click' ||\n",
       "                                   message.type==='unhover') {\n",
       "\n",
       "                            // click and hover events contain all of the data in the traces,\n",
       "                            // which can be a very large object and may take a ton of time\n",
       "                            // to pass to the python backend. Strip out the data, and require\n",
       "                            // the user to call get_figure if they need trace information\n",
       "                            if(message.type !== 'zoom') {\n",
       "                                for(var i in message.points) {\n",
       "                                    delete message.points[i].data;\n",
       "                                    delete message.points[i].fullData;\n",
       "                                }\n",
       "                            }\n",
       "                            that.send({event: message.type, message: message, graphId: graphId});\n",
       "                        } else if (message.task === 'getAttributes') {\n",
       "                            that.send({event: 'getAttributes', response: message.response});\n",
       "                        }\n",
       "                    }\n",
       "                }\n",
       "            };\n",
       "\n",
       "            window.removeEventListener('message', window.messageListeners[graphId]);\n",
       "            window.addEventListener('message', window.messageListeners[graphId]);\n",
       "\n",
       "        },\n",
       "\n",
       "        update: function() {\n",
       "            // Listen for messages from the graph widget in python\n",
       "            var jmessage = this.model.get('_message');\n",
       "            var message = JSON.parse(jmessage);\n",
       "\n",
       "            // check for duplicate messages\n",
       "            if(!('messageIds' in window)){\n",
       "                window.messageIds = {};\n",
       "            }\n",
       "\n",
       "            if(!(message.uid in window.messageIds)){\n",
       "                // message hasn't been received yet, do stuff\n",
       "                window.messageIds[message.uid] = true;\n",
       "\n",
       "                if (message.fadeTo) {\n",
       "                    this.fadeTo(message);\n",
       "                } else {\n",
       "                    var plot = $('#' + message.graphId)[0].contentWindow;\n",
       "                    plot.postMessage(message, window.plotlyDomains[message.graphId]);\n",
       "                }\n",
       "            }\n",
       "\n",
       "            return GraphView.__super__.update.apply(this);\n",
       "        },\n",
       "\n",
       "        /**\n",
       "         * Wrapper for jquery's `fadeTo` function.\n",
       "         *\n",
       "         * @param message Contains the id we need to find the element.\n",
       "         */\n",
       "        fadeTo: function (message) {\n",
       "            var plot = $('#' + message.graphId);\n",
       "            plot.fadeTo(message.duration, message.opacity);\n",
       "        }\n",
       "    });\n",
       "\n",
       "    // Register the GraphView with the widget manager.\n",
       "    manager.WidgetManager.register_widget_view('GraphView', GraphView);\n",
       "\n",
       "});\n",
       "\n",
       "//@ sourceURL=graphWidget.js\n"
      ],
      "text/plain": [
       "<IPython.core.display.Javascript object>"
      ]
     },
     "metadata": {},
     "output_type": "display_data"
    }
   ],
   "source": [
    "# Import Dependencies\n",
    "%matplotlib inline\n",
    "from ipywidgets import widgets\n",
    "from IPython.display import display\n",
    "import numpy as np\n",
    "import pandas as pd\n",
    "import plotly.graph_objs as go\n",
    "import plotly.plotly as py\n",
    "import os\n",
    "from plotly.graph_objs import *\n",
    "from plotly.widgets import GraphWidget\n",
    "import seaborn as sns\n",
    "import matplotlib.pyplot as plt"
   ]
  },
  {
   "cell_type": "code",
   "execution_count": 2,
   "metadata": {},
   "outputs": [
    {
     "name": "stdout",
     "output_type": "stream",
     "text": [
      "Completed File :..\\raw_data\\output\\MentalHealth2012.csv\n",
      "Completed File :..\\raw_data\\output\\MentalHealth2013.csv\n",
      "Completed File :..\\raw_data\\output\\MentalHealth2014.csv\n",
      "Completed File :..\\raw_data\\output\\MentalHealth2015.csv\n",
      "Completed File :..\\raw_data\\output\\MentalHealth2016.csv\n"
     ]
    }
   ],
   "source": [
    "# Create the yearlist\n",
    "year_list=[\"2012\",\"2013\",\"2014\",\"2015\",\"2016\"]\n",
    "# Assign filename\n",
    "file_names=\"MentalHealth\"\n",
    "# Create a dictionary to stor dataframe for all years\n",
    "All_DF={}\n",
    "\n",
    "# Loop through each year\n",
    "for years in year_list:\n",
    "    #create filename based on filename, year\n",
    "    file_name=file_names+years+\".csv\"\n",
    "    #assign file path\n",
    "    filepath=os.path.join(\"..\",\"raw_data\",\"output\",file_name)\n",
    "    #store data frme to dictionary with years as key and dataframe as value\n",
    "    All_DF[years]=pd.read_csv(filepath,low_memory=False)\n",
    "    print(\"Completed File :\" + filepath)\n",
    "\n",
    "    # Assign markers and palette for use in graphs\n",
    "markers=[\"o\",\"D\",\"8\",\"s\",\">\",\"<\",\"^\",\"v\",\"X\",\"P\",\"H\",\"*\",\"h\",\"d\",\"p\"]\n",
    "colors=[\"maroon\",\"red\",\"lightsalmon\",\"orange\",\"yellow\",\"goldenrod\",\"lightgreen\",\"green\",\"seagreen\",\n",
    "        \"teal\",\"skyblue\",\"blue\",\"indigo\",\"lavender\",\"violet\"]"
   ]
  },
  {
   "cell_type": "markdown",
   "metadata": {},
   "source": [
    "### Trend Across Years"
   ]
  },
  {
   "cell_type": "code",
   "execution_count": 3,
   "metadata": {
    "collapsed": true
   },
   "outputs": [],
   "source": [
    "# Function filter_df() used to create df based on a criteria selected by user\n",
    "def filter_df(criteria):\n",
    "    #set flag\n",
    "    flag=True\n",
    "    for year in year_list:\n",
    "        # Based on year filter out df\n",
    "        DF=All_DF[year]\n",
    "        # Give the mental health factor count filter\n",
    "        DF=DF[DF[\"Calc_MentalHealth_Value\"]>40]\n",
    "        # If it is the first file, create dataframe as store values\n",
    "        if flag:\n",
    "            # Create datafraem with count of people with mental factor>40\n",
    "            year_df=DF.pivot_table(index=criteria, values=\"Calc_MentalHealth_Value\",aggfunc='count')\n",
    "            year_df=year_df.rename(columns={\"Calc_MentalHealth_Value\":year})\n",
    "            # Reset index\n",
    "            year_df=year_df.reset_index()\n",
    "            # SET flag to false\n",
    "            flag=False\n",
    "        else:\n",
    "            # Since it is second file(if flag=false), create other df and merge based on criteria\n",
    "            new_df=DF.pivot_table(index=criteria, values=\"Calc_MentalHealth_Value\",aggfunc='count')\n",
    "            new_df=new_df.rename(columns={\"Calc_MentalHealth_Value\":year})\n",
    "            # Reset index\n",
    "            new_df=new_df.reset_index()\n",
    "            # Merge the dfs\n",
    "            year_df=year_df.merge(new_df,on=criteria)\n",
    "    # Return the df\n",
    "    return year_df"
   ]
  },
  {
   "cell_type": "code",
   "execution_count": 4,
   "metadata": {
    "collapsed": true
   },
   "outputs": [],
   "source": [
    "# Create the GUI as  a Dropdown for the Filter\n",
    "\n",
    "options=[\"Gender\",\"Employment_Status\", \"Age_Range\" ,\"Race\",\"MetroStatusCode\"]\n",
    "\n",
    "select_line = widgets.Dropdown(\n",
    "    options=options,\n",
    "    value='Gender',\n",
    "    description='Filter:',\n",
    ")"
   ]
  },
  {
   "cell_type": "code",
   "execution_count": 5,
   "metadata": {
    "collapsed": true
   },
   "outputs": [],
   "source": [
    "# Function to check response\n",
    "def response_line(change):\n",
    "    fig, ax = plt.subplots(figsize=(10,5))\n",
    "    \n",
    "    # Create df using select criteria\n",
    "    NDF=filter_df(select_line.value)\n",
    "    NDF=NDF.set_index(select_line.value)\n",
    "    sns.set_style(\"whitegrid\")\n",
    "    sns.set_context(rc={\"figure.figsize\":(12,9)})\n",
    "    i=0\n",
    "\n",
    "    for index,row in NDF.iterrows():  \n",
    "        # Set x and y axis\n",
    "        x_axis=year_list\n",
    "        y_axis=row\n",
    "        # Create the graph\n",
    "        ax.plot(x_axis,y_axis,marker=markers[i],c=colors[i], linestyle='--',markeredgecolor='black',)\n",
    "        i+=1\n",
    "    # Set x and y axis\n",
    "    ax.set_xlabel(\"Years\")\n",
    "    ax.set_ylabel(\"Population of People having Mental Health Issue\")\n",
    "    plt.title(\"%s vs Population of Mental Health from 2012 to 2016\"%(select_line.value))\n",
    "    plt.legend(loc = 'best',bbox_to_anchor=(1, 0.5), frameon=True)\n",
    "    # Set filepath and name for saving graph\n",
    "    filename =\"%s vs Population of Mental Health_%s from %s.png\"%(select_line.value,\"USA\" ,\"2012 to 2016\")\n",
    "    filepath=os.path.join(\"..\",\"Analysis_Output\",\"Across_Years_Analysis\",filename)\n",
    "    plt.savefig(filepath,bbox_inches='tight')\n",
    "    print(\"The file has been saved in the path:\\n %s\"%filepath)\n",
    "    \n",
    "    plt.show()"
   ]
  },
  {
   "cell_type": "code",
   "execution_count": 6,
   "metadata": {
    "scrolled": true
   },
   "outputs": [
    {
     "data": {
      "application/vnd.jupyter.widget-view+json": {
       "model_id": "30b6de190deb4a93be83a92e999d37a4",
       "version_major": 2,
       "version_minor": 0
      },
      "text/html": [
       "<p>Failed to display Jupyter Widget of type <code>HBox</code>.</p>\n",
       "<p>\n",
       "  If you're reading this message in the Jupyter Notebook or JupyterLab Notebook, it may mean\n",
       "  that the widgets JavaScript is still loading. If this message persists, it\n",
       "  likely means that the widgets JavaScript library is either not installed or\n",
       "  not enabled. See the <a href=\"https://ipywidgets.readthedocs.io/en/stable/user_install.html\">Jupyter\n",
       "  Widgets Documentation</a> for setup instructions.\n",
       "</p>\n",
       "<p>\n",
       "  If you're reading this message in another frontend (for example, a static\n",
       "  rendering on GitHub or <a href=\"https://nbviewer.jupyter.org/\">NBViewer</a>),\n",
       "  it may mean that your frontend doesn't currently support widgets.\n",
       "</p>\n"
      ],
      "text/plain": [
       "HBox(children=(Dropdown(description='Filter:', options=('Gender', 'Employment_Status', 'Age_Range', 'Race', 'MetroStatusCode'), value='Gender'),))"
      ]
     },
     "metadata": {},
     "output_type": "display_data"
    },
    {
     "data": {
      "application/vnd.jupyter.widget-view+json": {
       "model_id": "393acd9504fc454ebac43f53dd461b29",
       "version_major": 2,
       "version_minor": 0
      },
      "text/html": [
       "<p>Failed to display Jupyter Widget of type <code>Button</code>.</p>\n",
       "<p>\n",
       "  If you're reading this message in the Jupyter Notebook or JupyterLab Notebook, it may mean\n",
       "  that the widgets JavaScript is still loading. If this message persists, it\n",
       "  likely means that the widgets JavaScript library is either not installed or\n",
       "  not enabled. See the <a href=\"https://ipywidgets.readthedocs.io/en/stable/user_install.html\">Jupyter\n",
       "  Widgets Documentation</a> for setup instructions.\n",
       "</p>\n",
       "<p>\n",
       "  If you're reading this message in another frontend (for example, a static\n",
       "  rendering on GitHub or <a href=\"https://nbviewer.jupyter.org/\">NBViewer</a>),\n",
       "  it may mean that your frontend doesn't currently support widgets.\n",
       "</p>\n"
      ],
      "text/plain": [
       "Button(description='Generate Graph', style=ButtonStyle())"
      ]
     },
     "metadata": {},
     "output_type": "display_data"
    },
    {
     "name": "stdout",
     "output_type": "stream",
     "text": [
      "The file has been saved in the path:\n",
      " ..\\Analysis_Output\\Across_Years_Analysis\\Employment_Status vs Population of Mental Health_USA from 2012 to 2016.png\n"
     ]
    },
    {
     "data": {
      "image/png": "[encoded data removed]",
      "text/plain": [
       "<matplotlib.figure.Figure at 0x21910e90f28>"
      ]
     },
     "metadata": {},
     "output_type": "display_data"
    }
   ],
   "source": [
    "# Assign containers for placing GUI\n",
    "container =  widgets.HBox([select_line])\n",
    "display(container)\n",
    "button_line=widgets.Button(description=\"Generate Graph\")\n",
    "display(button_line)\n",
    "\n",
    "# Create a button to generate graph\n",
    "button_line.on_click(response_line)"
   ]
  },
  {
   "cell_type": "markdown",
   "metadata": {},
   "source": [
    "## Trends Based on State and Filters"
   ]
  },
  {
   "cell_type": "code",
   "execution_count": 13,
   "metadata": {
    "collapsed": true
   },
   "outputs": [],
   "source": [
    "# Create the GUI as  a Slider for the Year\n",
    "Year = widgets.IntSlider(\n",
    "    value=2012,\n",
    "    min=2012,\n",
    "    max=2016,\n",
    "    step=1,\n",
    "    description='Year:',\n",
    "    continuous_update = False\n",
    ")\n",
    "\n",
    "# Creating a list of all the unique states in the DF and appending \"ALL\" to the list\n",
    "Statelist=list(All_DF[\"2014\"]['State'].unique())\n",
    "Statelist.append(\"ALL\")\n",
    "# Creating a drop down for the States\n",
    "state = widgets.Dropdown(\n",
    "    options=Statelist,\n",
    "    value='ALL',\n",
    "    description='State',\n",
    ")\n",
    "\n",
    "# Create the list of filters\n",
    "Selectionlist=[\"Gender\",\"Age_Range\",\"Race\",\"Employment_Status\",\"MetroStatusCode\",\"Health_Coverage\"]\n",
    "# Creating a drop down for the filte\n",
    "select = widgets.Dropdown(\n",
    "    options=Selectionlist,\n",
    "    value='Gender',\n",
    "    description='Filter:',\n",
    ")"
   ]
  },
  {
   "cell_type": "code",
   "execution_count": 14,
   "metadata": {
    "collapsed": true
   },
   "outputs": [],
   "source": [
    "# Create a function to respond based on button click\n",
    "def response(change):\n",
    "        \n",
    "    # Extract dataframe from dictionary based on year\n",
    "    DF=All_DF[str(Year.value)]\n",
    "   \n",
    "    # Based on selected state , display graph. If state=ALL, plot details for USA\n",
    "    if state.value!=\"ALL\":\n",
    "        # Create filter list, with mental weight factor>40 and the state\n",
    "        filter_list = [i and j for i,j in zip(DF['State'] == state.value,DF[\"Calc_MentalHealth_Value\"]>40)]\n",
    "        # Assign filtered dataframe to t_df\n",
    "        t_df=DF[filter_list]\n",
    "        # Create temp_df to get count of mental weight factor\n",
    "        temp_df = t_df.pivot_table(index=select.value,values=\"Calc_MentalHealth_Value\", aggfunc='count')\n",
    "        # Give plot features\n",
    "        sns.set_style(\"whitegrid\")\n",
    "        sns.set_context(rc={\"figure.figsize\":(12,9)})\n",
    "        # Plot bargraph\n",
    "        fig=sns.barplot(x=\"Calc_MentalHealth_Value\",y=temp_df.index.values,data=temp_df,palette=sns.set_palette(colors))\n",
    "        # Set titles and labels\n",
    "        plt.title(\"%s vs Number of People having Mental Health in %s for %s\"%(select.value,state.value,Year.value),fontsize=14)\n",
    "        fig.set(xlabel='Number of People having Mental Health Issues', ylabel=select.value)\n",
    "        # Set filepath and name for saving graph\n",
    "        filename =\"%s vs Mental Health_%s for %s.png\"%(select.value,state.value,Year.value)\n",
    "        filepath=os.path.join(\"..\",\"Analysis_Output\",str(Year.value),filename)\n",
    "        plt.savefig(filepath)\n",
    "        print(\"The file has been saved in the path:\\n %s\"%filepath)\n",
    "        # Display the graph\n",
    "        plt.show()\n",
    "\n",
    "    else:\n",
    "        # Create filter list, with mental weight factor>40, for USA(ALL)\n",
    "        filter_list = [i  for i in zip(DF[\"Calc_MentalHealth_Value\"]>40)]\n",
    "        # Assign filtered dataframe to t_df\n",
    "        t_df = DF[filter_list]\n",
    "        # Create temp_df to get count of mental weight factor\n",
    "        temp_df = t_df.pivot_table(index=select.value,values=\"Calc_MentalHealth_Value\", aggfunc='count')\n",
    "        # Give plot features\n",
    "        sns.set_style(\"whitegrid\")\n",
    "        sns.set_context(rc={\"figure.figsize\":(12,9)})\n",
    "        # Set titles and labels\n",
    "        fig=sns.barplot(x=\"Calc_MentalHealth_Value\",y=temp_df.index.values,data=temp_df,palette=sns.set_palette(colors))\n",
    "        plt.title(\"%s vs Number of People having Mental Health in %s for %s\"%(select.value,\"USA\",Year.value),fontsize=14)\n",
    "        fig.set(xlabel='Number of People having Mental Health Issues', ylabel=select.value)\n",
    "        # Set filepath and name for saving graph\n",
    "        filename =\"%s vs Mental Health_%s for %s.png\"%(select.value,\"USA\",Year.value)\n",
    "        filepath=os.path.join(\"..\",\"Analysis_Output\",str(Year.value),filename)\n",
    "        plt.savefig(filepath)\n",
    "        print(\"The file has been saved in the path:\\n %s\"%filepath)\n",
    "        # Display the graph\n",
    "        plt.show()\n"
   ]
  },
  {
   "cell_type": "code",
   "execution_count": 15,
   "metadata": {},
   "outputs": [
    {
     "name": "stdout",
     "output_type": "stream",
     "text": [
      "Filtered Analysis Graphs\n",
      "\n"
     ]
    },
    {
     "data": {
      "application/vnd.jupyter.widget-view+json": {
       "model_id": "2ba681f39bed4f9598bc2f1f7b0e2ff4",
       "version_major": 2,
       "version_minor": 0
      },
      "text/html": [
       "<p>Failed to display Jupyter Widget of type <code>HBox</code>.</p>\n",
       "<p>\n",
       "  If you're reading this message in the Jupyter Notebook or JupyterLab Notebook, it may mean\n",
       "  that the widgets JavaScript is still loading. If this message persists, it\n",
       "  likely means that the widgets JavaScript library is either not installed or\n",
       "  not enabled. See the <a href=\"https://ipywidgets.readthedocs.io/en/stable/user_install.html\">Jupyter\n",
       "  Widgets Documentation</a> for setup instructions.\n",
       "</p>\n",
       "<p>\n",
       "  If you're reading this message in another frontend (for example, a static\n",
       "  rendering on GitHub or <a href=\"https://nbviewer.jupyter.org/\">NBViewer</a>),\n",
       "  it may mean that your frontend doesn't currently support widgets.\n",
       "</p>\n"
      ],
      "text/plain": [
       "HBox(children=(IntSlider(value=2012, continuous_update=False, description='Year:', max=2016, min=2012),))"
      ]
     },
     "metadata": {},
     "output_type": "display_data"
    },
    {
     "data": {
      "application/vnd.jupyter.widget-view+json": {
       "model_id": "93a4993ec94142e2b5006806f6973489",
       "version_major": 2,
       "version_minor": 0
      },
      "text/html": [
       "<p>Failed to display Jupyter Widget of type <code>HBox</code>.</p>\n",
       "<p>\n",
       "  If you're reading this message in the Jupyter Notebook or JupyterLab Notebook, it may mean\n",
       "  that the widgets JavaScript is still loading. If this message persists, it\n",
       "  likely means that the widgets JavaScript library is either not installed or\n",
       "  not enabled. See the <a href=\"https://ipywidgets.readthedocs.io/en/stable/user_install.html\">Jupyter\n",
       "  Widgets Documentation</a> for setup instructions.\n",
       "</p>\n",
       "<p>\n",
       "  If you're reading this message in another frontend (for example, a static\n",
       "  rendering on GitHub or <a href=\"https://nbviewer.jupyter.org/\">NBViewer</a>),\n",
       "  it may mean that your frontend doesn't currently support widgets.\n",
       "</p>\n"
      ],
      "text/plain": [
       "HBox(children=(Dropdown(description='State', index=52, options=('AL', 'AK', 'AZ', 'AR', 'CA', 'CO', 'CT', 'DE', 'FL', 'GA', 'HI', 'ID', 'IL', 'IN', 'IA', 'KS', 'KY', 'LA', 'ME', 'MD', 'MA', 'MI', 'MN', 'MS', 'MO', 'MT', 'NE', 'NV', 'NH', 'NJ', 'NM', 'NY', 'NC', 'ND', 'OH', 'OK', 'OR', 'PA', 'RI', 'SC', 'SD', 'TN', 'TX', 'UT', 'VT', 'VA', 'WA', 'WV', 'WI', 'WY', 'GU', 'PR', 'ALL'), value='ALL'),))"
      ]
     },
     "metadata": {},
     "output_type": "display_data"
    },
    {
     "data": {
      "application/vnd.jupyter.widget-view+json": {
       "model_id": "86348bd87fa64b09b5e2258d83caa3b1",
       "version_major": 2,
       "version_minor": 0
      },
      "text/html": [
       "<p>Failed to display Jupyter Widget of type <code>HBox</code>.</p>\n",
       "<p>\n",
       "  If you're reading this message in the Jupyter Notebook or JupyterLab Notebook, it may mean\n",
       "  that the widgets JavaScript is still loading. If this message persists, it\n",
       "  likely means that the widgets JavaScript library is either not installed or\n",
       "  not enabled. See the <a href=\"https://ipywidgets.readthedocs.io/en/stable/user_install.html\">Jupyter\n",
       "  Widgets Documentation</a> for setup instructions.\n",
       "</p>\n",
       "<p>\n",
       "  If you're reading this message in another frontend (for example, a static\n",
       "  rendering on GitHub or <a href=\"https://nbviewer.jupyter.org/\">NBViewer</a>),\n",
       "  it may mean that your frontend doesn't currently support widgets.\n",
       "</p>\n"
      ],
      "text/plain": [
       "HBox(children=(Dropdown(description='Filter:', options=('Gender', 'Age_Range', 'Race', 'Employment_Status', 'MetroStatusCode', 'Health_Coverage'), value='Gender'),))"
      ]
     },
     "metadata": {},
     "output_type": "display_data"
    },
    {
     "data": {
      "application/vnd.jupyter.widget-view+json": {
       "model_id": "5e344f82b1ba4ce2abd08a472d9d5ae1",
       "version_major": 2,
       "version_minor": 0
      },
      "text/html": [
       "<p>Failed to display Jupyter Widget of type <code>Button</code>.</p>\n",
       "<p>\n",
       "  If you're reading this message in the Jupyter Notebook or JupyterLab Notebook, it may mean\n",
       "  that the widgets JavaScript is still loading. If this message persists, it\n",
       "  likely means that the widgets JavaScript library is either not installed or\n",
       "  not enabled. See the <a href=\"https://ipywidgets.readthedocs.io/en/stable/user_install.html\">Jupyter\n",
       "  Widgets Documentation</a> for setup instructions.\n",
       "</p>\n",
       "<p>\n",
       "  If you're reading this message in another frontend (for example, a static\n",
       "  rendering on GitHub or <a href=\"https://nbviewer.jupyter.org/\">NBViewer</a>),\n",
       "  it may mean that your frontend doesn't currently support widgets.\n",
       "</p>\n"
      ],
      "text/plain": [
       "Button(description='Generate Graph', style=ButtonStyle())"
      ]
     },
     "metadata": {},
     "output_type": "display_data"
    },
    {
     "name": "stdout",
     "output_type": "stream",
     "text": [
      "        Calc_MentalHealth_Value\n",
      "Gender                         \n",
      "F                          9428\n",
      "M                          9275\n",
      "The file has been saved in the path:\n",
      " ..\\Analysis_Output\\2014\\Gender vs Mental Health_USA for 2014.png\n"
     ]
    },
    {
     "data": {
      "image/png": "[encoded data removed]",
      "text/plain": [
       "<matplotlib.figure.Figure at 0x2191138d3c8>"
      ]
     },
     "metadata": {},
     "output_type": "display_data"
    },
    {
     "name": "stdout",
     "output_type": "stream",
     "text": [
      "                 Calc_MentalHealth_Value\n",
      "Health_Coverage                         \n",
      "N                                   2345\n",
      "Y                                  10960\n",
      "The file has been saved in the path:\n",
      " ..\\Analysis_Output\\2014\\Health_Coverage vs Mental Health_USA for 2014.png\n"
     ]
    },
    {
     "data": {
      "image/png": "[encoded data removed]",
      "text/plain": [
       "<matplotlib.figure.Figure at 0x21913d145c0>"
      ]
     },
     "metadata": {},
     "output_type": "display_data"
    },
    {
     "name": "stdout",
     "output_type": "stream",
     "text": [
      "The file has been saved in the path:\n",
      " ..\\Analysis_Output\\2014\\Health_Coverage vs Mental Health_NJ for 2014.png\n"
     ]
    },
    {
     "data": {
      "image/png": "[encoded data removed]",
      "text/plain": [
       "<matplotlib.figure.Figure at 0x21912d3e0b8>"
      ]
     },
     "metadata": {},
     "output_type": "display_data"
    }
   ],
   "source": [
    "print(\"Filtered Analysis Graphs\\n\")\n",
    "\n",
    "# Assign containers for placing GUI\n",
    "container1 = widgets.HBox([Year])\n",
    "display(container1)\n",
    "container2 = widgets.HBox([state])\n",
    "display(container2)\n",
    "container3 =  widgets.HBox([select])\n",
    "display(container3)\n",
    "# Create a button to generate graph\n",
    "button=widgets.Button(description=\"Generate Graph\")\n",
    "display(button)\n",
    "\n",
    "button.on_click(response)"
   ]
  },
  {
   "cell_type": "code",
   "execution_count": null,
   "metadata": {
    "collapsed": true
   },
   "outputs": [],
   "source": []
  }
 ],
 "metadata": {
  "kernelspec": {
   "display_name": "Python 3",
   "language": "python",
   "name": "python3"
  },
  "language_info": {
   "codemirror_mode": {
    "name": "ipython",
    "version": 3
   },
   "file_extension": ".py",
   "mimetype": "text/x-python",
   "name": "python",
   "nbconvert_exporter": "python",
   "pygments_lexer": "ipython3",
   "version": "3.6.3"
  }
 },
 "nbformat": 4,
 "nbformat_minor": 2
}
