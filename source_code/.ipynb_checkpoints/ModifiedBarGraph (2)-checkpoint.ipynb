{
 "cells": [
  {
   "cell_type": "code",
   "execution_count": 1,
   "metadata": {},
   "outputs": [
    {
     "name": "stderr",
     "output_type": "stream",
     "text": [
      "C:\\Users\\User\\Anaconda3\\envs\\PythonData1\\lib\\site-packages\\IPython\\html.py:14: ShimWarning:\n",
      "\n",
      "The `IPython.html` package has been deprecated since IPython 4.0. You should import from `notebook` instead. `IPython.html.widgets` has moved to `ipywidgets`.\n",
      "\n",
      "C:\\Users\\User\\Anaconda3\\envs\\PythonData1\\lib\\site-packages\\plotly\\widgets\\graph_widget.py:13: UserWarning:\n",
      "\n",
      "IPython.utils.traitlets has moved to a top-level traitlets package.\n",
      "\n"
     ]
    },
    {
     "data": {
      "application/javascript": [
       "window.genUID = function() {\n",
       "    return 'xxxxxxxx-xxxx-4xxx-yxxx-xxxxxxxxxxxx'.replace(/[xy]/g, function(c) {\n",
       "        var r = Math.random()*16|0, v = c == 'x' ? r : (r&0x3|0x8);\n",
       "        return v.toString(16);\n",
       "    });\n",
       "};\n",
       "\n",
       "var IPYTHON_VERSION = '3';\n",
       "\n",
       "require([\"widgets/js/widget\", \"widgets/js/manager\"], function (widget, manager) {\n",
       "    if (!('DOMWidgetView' in widget)) {\n",
       "\n",
       "        // we're in IPython2, things moved a bit from 2 --> 3.\n",
       "        // construct the expected IPython3 widget API\n",
       "        IPYTHON_VERSION = '2';\n",
       "        manager = {WidgetManager: widget};\n",
       "        widget = {DOMWidgetView: IPython.DOMWidgetView};\n",
       "    }\n",
       "\n",
       "    var GraphView = widget.DOMWidgetView.extend({\n",
       "        render: function(){\n",
       "            var that = this;\n",
       "\n",
       "            var graphId = window.genUID();\n",
       "            var loadingId = 'loading-'+graphId;\n",
       "\n",
       "\n",
       "            var _graph_url = that.model.get('_graph_url');\n",
       "\n",
       "            // variable plotlyDomain in the case of enterprise\n",
       "            var url_parts = _graph_url.split('/');\n",
       "            var plotlyDomain = url_parts[0] + '//' + url_parts[2];\n",
       "\n",
       "            if(!('plotlyDomains' in window)){\n",
       "                window.plotlyDomains = {};\n",
       "            }\n",
       "            window.plotlyDomains[graphId] = plotlyDomain;\n",
       "\n",
       "            // Place IFrame in output cell div `$el`\n",
       "            that.$el.css('width', '100%');\n",
       "            that.$graph = $(['<iframe id=\"'+graphId+'\"',\n",
       "                             'src=\"'+_graph_url+'.embed\"',\n",
       "                             'seamless',\n",
       "                             'style=\"border: none;\"',\n",
       "                             'width=\"100%\"',\n",
       "                             'height=\"600\">',\n",
       "                             '</iframe>'].join(' '));\n",
       "            that.$graph.appendTo(that.$el);\n",
       "\n",
       "            that.$loading = $('<div id=\"'+loadingId+'\">Initializing...</div>')\n",
       "                            .appendTo(that.$el);\n",
       "\n",
       "            // for some reason the 'width' is being changed in IPython 3.0.0\n",
       "            // for the containing `div` element. There's a flicker here, but\n",
       "            // I was unable to fix it otherwise.\n",
       "            setTimeout(function ()  {\n",
       "                if (IPYTHON_VERSION === '3') {\n",
       "                    $('#' + graphId)[0].parentElement.style.width = '100%';\n",
       "                }\n",
       "            }, 500);\n",
       "\n",
       "            // initialize communication with the iframe\n",
       "            if(!('pingers' in window)){\n",
       "                window.pingers = {};\n",
       "            }\n",
       "\n",
       "            window.pingers[graphId] = setInterval(function() {\n",
       "                that.graphContentWindow = $('#'+graphId)[0].contentWindow;\n",
       "                that.graphContentWindow.postMessage({task: 'ping'}, plotlyDomain);\n",
       "            }, 200);\n",
       "\n",
       "            // Assign a message listener to the 'message' events\n",
       "            // from iframe's postMessage protocol.\n",
       "            // Filter the messages by iframe src so that the right message\n",
       "            // gets passed to the right widget\n",
       "            if(!('messageListeners' in window)){\n",
       "                 window.messageListeners = {};\n",
       "            }\n",
       "\n",
       "            window.messageListeners[graphId] = function(e) {\n",
       "                if(_graph_url.indexOf(e.origin)>-1) {\n",
       "                    var frame = document.getElementById(graphId);\n",
       "\n",
       "                    if(frame === null){\n",
       "                        // frame doesn't exist in the dom anymore, clean up it's old event listener\n",
       "                        window.removeEventListener('message', window.messageListeners[graphId]);\n",
       "                        clearInterval(window.pingers[graphId]);\n",
       "                    } else if(frame.contentWindow === e.source) {\n",
       "                        // TODO: Stop event propagation, so each frame doesn't listen and filter\n",
       "                        var frameContentWindow = $('#'+graphId)[0].contentWindow;\n",
       "                        var message = e.data;\n",
       "\n",
       "                        if('pong' in message && message.pong) {\n",
       "                            $('#loading-'+graphId).hide();\n",
       "                            clearInterval(window.pingers[graphId]);\n",
       "                            that.send({event: 'pong', graphId: graphId});\n",
       "                        } else if (message.type==='hover' ||\n",
       "                                   message.type==='zoom'  ||\n",
       "                                   message.type==='click' ||\n",
       "                                   message.type==='unhover') {\n",
       "\n",
       "                            // click and hover events contain all of the data in the traces,\n",
       "                            // which can be a very large object and may take a ton of time\n",
       "                            // to pass to the python backend. Strip out the data, and require\n",
       "                            // the user to call get_figure if they need trace information\n",
       "                            if(message.type !== 'zoom') {\n",
       "                                for(var i in message.points) {\n",
       "                                    delete message.points[i].data;\n",
       "                                    delete message.points[i].fullData;\n",
       "                                }\n",
       "                            }\n",
       "                            that.send({event: message.type, message: message, graphId: graphId});\n",
       "                        } else if (message.task === 'getAttributes') {\n",
       "                            that.send({event: 'getAttributes', response: message.response});\n",
       "                        }\n",
       "                    }\n",
       "                }\n",
       "            };\n",
       "\n",
       "            window.removeEventListener('message', window.messageListeners[graphId]);\n",
       "            window.addEventListener('message', window.messageListeners[graphId]);\n",
       "\n",
       "        },\n",
       "\n",
       "        update: function() {\n",
       "            // Listen for messages from the graph widget in python\n",
       "            var jmessage = this.model.get('_message');\n",
       "            var message = JSON.parse(jmessage);\n",
       "\n",
       "            // check for duplicate messages\n",
       "            if(!('messageIds' in window)){\n",
       "                window.messageIds = {};\n",
       "            }\n",
       "\n",
       "            if(!(message.uid in window.messageIds)){\n",
       "                // message hasn't been received yet, do stuff\n",
       "                window.messageIds[message.uid] = true;\n",
       "\n",
       "                if (message.fadeTo) {\n",
       "                    this.fadeTo(message);\n",
       "                } else {\n",
       "                    var plot = $('#' + message.graphId)[0].contentWindow;\n",
       "                    plot.postMessage(message, window.plotlyDomains[message.graphId]);\n",
       "                }\n",
       "            }\n",
       "\n",
       "            return GraphView.__super__.update.apply(this);\n",
       "        },\n",
       "\n",
       "        /**\n",
       "         * Wrapper for jquery's `fadeTo` function.\n",
       "         *\n",
       "         * @param message Contains the id we need to find the element.\n",
       "         */\n",
       "        fadeTo: function (message) {\n",
       "            var plot = $('#' + message.graphId);\n",
       "            plot.fadeTo(message.duration, message.opacity);\n",
       "        }\n",
       "    });\n",
       "\n",
       "    // Register the GraphView with the widget manager.\n",
       "    manager.WidgetManager.register_widget_view('GraphView', GraphView);\n",
       "\n",
       "});\n",
       "\n",
       "//@ sourceURL=graphWidget.js\n"
      ],
      "text/plain": [
       "<IPython.core.display.Javascript object>"
      ]
     },
     "metadata": {},
     "output_type": "display_data"
    }
   ],
   "source": [
    "# Dependencies\n",
    "%matplotlib inline\n",
    "from ipywidgets import widgets\n",
    "from IPython.display import display\n",
    "import numpy as np\n",
    "import pandas as pd\n",
    "import plotly.graph_objs as go\n",
    "import plotly.plotly as py\n",
    "import os\n",
    "from plotly.graph_objs import *\n",
    "from plotly.widgets import GraphWidget\n",
    "import seaborn as sns\n",
    "import matplotlib.pyplot as plt"
   ]
  },
  {
   "cell_type": "code",
   "execution_count": 3,
   "metadata": {},
   "outputs": [
    {
     "name": "stdout",
     "output_type": "stream",
     "text": [
      "Completed MentalHealth2012.csv\n",
      "Completed MentalHealth2013.csv\n",
      "Completed MentalHealth2014.csv\n",
      "Completed MentalHealth2015.csv\n",
      "Completed MentalHealth2016.csv\n"
     ]
    }
   ],
   "source": [
    "# Reading all csv files\n",
    "year_list=[\"2012\",\"2013\",\"2014\",\"2015\",\"2016\"]\n",
    "\n",
    "# Filename \n",
    "file_names=\"MentalHealth\"\n",
    "# Creating a dictionary to store the year wise DF with the key value as their respective years\n",
    "All_DF={}\n",
    "for years in year_list:\n",
    "    # Appending the file name with the year\n",
    "    filename=file_names+years+\".csv\"\n",
    "    # Creating the file path for the csv files\n",
    "    outputfilepath=os.path.join(\"..\",\"raw_data\",\"output\",filename)\n",
    "    # Adding the read DF to the dictionary\n",
    "    All_DF[years]=pd.read_csv(outputfilepath,low_memory=False)\n",
    "    print(\"Completed %s\"%filename)\n"
   ]
  },
  {
   "cell_type": "code",
   "execution_count": 4,
   "metadata": {
    "collapsed": true
   },
   "outputs": [],
   "source": [
    "#Intializing a DF randomly\n",
    "DF=All_DF[\"2012\"]"
   ]
  },
  {
   "cell_type": "markdown",
   "metadata": {},
   "source": [
    "## Trends Based on State and Filters"
   ]
  },
  {
   "cell_type": "code",
   "execution_count": 5,
   "metadata": {
    "collapsed": true
   },
   "outputs": [],
   "source": [
    "# Creating a Slider for the Year\n",
    "Year = widgets.IntSlider(\n",
    "    value=2012,\n",
    "    min=2012,\n",
    "    max=2016,\n",
    "    step=1,\n",
    "    description='Year:',\n",
    "    continuous_update = False\n",
    ")\n",
    "\n",
    "# Creating a list of all the unique states in the DF and appending \"ALL\" to the list \n",
    "Statelist=list(DF['State'].unique())\n",
    "Statelist.append(\"ALL\")\n",
    "# Creating a drop down for the States\n",
    "state = widgets.Dropdown(\n",
    "    options=Statelist,\n",
    "    value='ALL',\n",
    "    description='State',\n",
    ")\n",
    "# Creating a Filter list\n",
    "Selectionlist=[\"Gender\",\"Age_Range\",\"Race\",\"Employment_Status\",\"MetroStatusCode\",\"Health_Coverage\"]\n",
    "select = widgets.Dropdown(\n",
    "    options=Selectionlist,\n",
    "    value='Gender',\n",
    "    description='Filter:',\n",
    ")"
   ]
  },
  {
   "cell_type": "code",
   "execution_count": 39,
   "metadata": {
    "collapsed": true
   },
   "outputs": [],
   "source": [
    "def response(change):    \n",
    "    #To read DF based on year filter\n",
    "    DF=All_DF[str(Year.value)]\n",
    "\n",
    "    # If State value is a specific state\n",
    "    if state.value!=\"ALL\":\n",
    "        \n",
    "        filter_list = [i and j for i,j in zip(DF['State'] == state.value,DF[\"Calc_MentalHealth_Value\"]>40)]\n",
    "        t_df=DF[filter_list]\n",
    "        temp_df = t_df.pivot_table(index=select.value,values=\"Calc_MentalHealth_Value\", aggfunc='count')\n",
    "        sns.set_style(\"whitegrid\")\n",
    "        sns.set_context(rc={\"figure.figsize\":(12,9)})\n",
    "        fig=sns.barplot(x=\"Calc_MentalHealth_Value\",y=temp_df.index.values,data=temp_df,\n",
    "                        palette=sns.set_palette(sns.color_palette(palette=\"bright\",n_colors=12)))\n",
    "        plt.title(\"%s vs Number of People having Mental Health in %s for %s\"%(select.value,state.value,Year.value),fontsize=14)\n",
    "        fig.set(xlabel='Number of People having Mental Health Issues', ylabel=select.value)\n",
    "        filename =\"%s vs Mental Health_%s for %s.png\"%(select.value,state.value,Year.value)\n",
    "        filepath=os.path.join(\"..\",\"Output\",\"Filtered_Analysis\",str(Year.value),filename)\n",
    "        plt.savefig(filepath)\n",
    "        print(\"The file has been saved in the path:\\n %s\"%filepath)\n",
    "        plt.show()\n",
    "\n",
    "    else:\n",
    "        filter_list = [i  for i in zip(DF[\"Calc_MentalHealth_Value\"]>40)]\n",
    "        t_df = DF[filter_list]\n",
    "        temp_df = t_df.pivot_table(index=select.value,values=\"Calc_MentalHealth_Value\", aggfunc='count')\n",
    "        sns.set_style(\"whitegrid\")\n",
    "        sns.set_context(rc={\"figure.figsize\":(12,9)})\n",
    "        fig=sns.barplot(x=\"Calc_MentalHealth_Value\",y=temp_df.index.values,data=temp_df,\n",
    "                        palette=sns.set_palette(sns.color_palette(palette=\"bright\",n_colors=12)))\n",
    "        plt.title(\"%s vs Number of People having Mental Health in %s for %s\"%(select.value,\"USA\",Year.value),fontsize=14)\n",
    "        fig.set(xlabel='Number of People having Mental Health Issues', ylabel=select.value)\n",
    "        filename =\"%s vs Mental Health_%s for %s.png\"%(select.value,\"USA\",Year.value)\n",
    "        filepath=os.path.join(\"..\",\"Output\",\"Filtered_Analysis\",str(Year.value),filename)\n",
    "        plt.savefig(filepath)\n",
    "        print(\"The file has been saved in the path:\\n %s\"%filepath)\n",
    "        plt.show()\n",
    "\n",
    "\n",
    "        "
   ]
  },
  {
   "cell_type": "code",
   "execution_count": 40,
   "metadata": {
    "scrolled": true
   },
   "outputs": [
    {
     "name": "stdout",
     "output_type": "stream",
     "text": [
      "\\Filtered Analysis Graphs\n",
      "\n"
     ]
    },
    {
     "data": {
      "application/vnd.jupyter.widget-view+json": {
       "model_id": "bbe267856c2e4acfb5291211586b7aca",
       "version_major": 2,
       "version_minor": 0
      },
      "text/html": [
       "<p>Failed to display Jupyter Widget of type <code>HBox</code>.</p>\n",
       "<p>\n",
       "  If you're reading this message in the Jupyter Notebook or JupyterLab Notebook, it may mean\n",
       "  that the widgets JavaScript is still loading. If this message persists, it\n",
       "  likely means that the widgets JavaScript library is either not installed or\n",
       "  not enabled. See the <a href=\"https://ipywidgets.readthedocs.io/en/stable/user_install.html\">Jupyter\n",
       "  Widgets Documentation</a> for setup instructions.\n",
       "</p>\n",
       "<p>\n",
       "  If you're reading this message in another frontend (for example, a static\n",
       "  rendering on GitHub or <a href=\"https://nbviewer.jupyter.org/\">NBViewer</a>),\n",
       "  it may mean that your frontend doesn't currently support widgets.\n",
       "</p>\n"
      ],
      "text/plain": [
       "HBox(children=(IntSlider(value=2016, continuous_update=False, description='Year:', max=2016, min=2012),))"
      ]
     },
     "metadata": {},
     "output_type": "display_data"
    },
    {
     "data": {
      "application/vnd.jupyter.widget-view+json": {
       "model_id": "5dc26cb8131c4e0c9f5bf600a6e1d7f6",
       "version_major": 2,
       "version_minor": 0
      },
      "text/html": [
       "<p>Failed to display Jupyter Widget of type <code>HBox</code>.</p>\n",
       "<p>\n",
       "  If you're reading this message in the Jupyter Notebook or JupyterLab Notebook, it may mean\n",
       "  that the widgets JavaScript is still loading. If this message persists, it\n",
       "  likely means that the widgets JavaScript library is either not installed or\n",
       "  not enabled. See the <a href=\"https://ipywidgets.readthedocs.io/en/stable/user_install.html\">Jupyter\n",
       "  Widgets Documentation</a> for setup instructions.\n",
       "</p>\n",
       "<p>\n",
       "  If you're reading this message in another frontend (for example, a static\n",
       "  rendering on GitHub or <a href=\"https://nbviewer.jupyter.org/\">NBViewer</a>),\n",
       "  it may mean that your frontend doesn't currently support widgets.\n",
       "</p>\n"
      ],
      "text/plain": [
       "HBox(children=(Dropdown(description='State', index=11, options=('AL', 'AK', 'AZ', 'AR', 'CA', 'CO', 'CT', 'DE', 'FL', 'GA', 'HI', 'ID', 'IL', 'IN', 'IA', 'KS', 'KY', 'LA', 'ME', 'MD', 'MA', 'MI', 'MN', 'MS', 'MO', 'MT', 'NE', 'NV', 'NH', 'NJ', 'NM', 'NY', 'NC', 'ND', 'OH', 'OK', 'OR', 'PA', 'RI', 'SC', 'SD', 'TN', 'TX', 'UT', 'VT', 'VA', 'WA', 'WV', 'WI', 'WY', 'GU', 'PR', 'ALL'), value='ID'),))"
      ]
     },
     "metadata": {},
     "output_type": "display_data"
    },
    {
     "data": {
      "application/vnd.jupyter.widget-view+json": {
       "model_id": "e2013294c07749618c3eb89ac2aa0bab",
       "version_major": 2,
       "version_minor": 0
      },
      "text/html": [
       "<p>Failed to display Jupyter Widget of type <code>HBox</code>.</p>\n",
       "<p>\n",
       "  If you're reading this message in the Jupyter Notebook or JupyterLab Notebook, it may mean\n",
       "  that the widgets JavaScript is still loading. If this message persists, it\n",
       "  likely means that the widgets JavaScript library is either not installed or\n",
       "  not enabled. See the <a href=\"https://ipywidgets.readthedocs.io/en/stable/user_install.html\">Jupyter\n",
       "  Widgets Documentation</a> for setup instructions.\n",
       "</p>\n",
       "<p>\n",
       "  If you're reading this message in another frontend (for example, a static\n",
       "  rendering on GitHub or <a href=\"https://nbviewer.jupyter.org/\">NBViewer</a>),\n",
       "  it may mean that your frontend doesn't currently support widgets.\n",
       "</p>\n"
      ],
      "text/plain": [
       "HBox(children=(Dropdown(description='Filter:', options=('Gender', 'Age_Range', 'Race', 'Employment_Status', 'MetroStatusCode', 'Health_Coverage'), value='Gender'),))"
      ]
     },
     "metadata": {},
     "output_type": "display_data"
    },
    {
     "data": {
      "application/vnd.jupyter.widget-view+json": {
       "model_id": "b23f79cb2ba348d590cc2f3245171b31",
       "version_major": 2,
       "version_minor": 0
      },
      "text/html": [
       "<p>Failed to display Jupyter Widget of type <code>Button</code>.</p>\n",
       "<p>\n",
       "  If you're reading this message in the Jupyter Notebook or JupyterLab Notebook, it may mean\n",
       "  that the widgets JavaScript is still loading. If this message persists, it\n",
       "  likely means that the widgets JavaScript library is either not installed or\n",
       "  not enabled. See the <a href=\"https://ipywidgets.readthedocs.io/en/stable/user_install.html\">Jupyter\n",
       "  Widgets Documentation</a> for setup instructions.\n",
       "</p>\n",
       "<p>\n",
       "  If you're reading this message in another frontend (for example, a static\n",
       "  rendering on GitHub or <a href=\"https://nbviewer.jupyter.org/\">NBViewer</a>),\n",
       "  it may mean that your frontend doesn't currently support widgets.\n",
       "</p>\n"
      ],
      "text/plain": [
       "Button(description='Generate Graph', style=ButtonStyle())"
      ]
     },
     "metadata": {},
     "output_type": "display_data"
    },
    {
     "name": "stdout",
     "output_type": "stream",
     "text": [
      "The file has been saved in the path:\n",
      " ..\\Output\\Filtered_Analysis\\2016\\Gender vs Mental Health_ID for 2016.png\n"
     ]
    },
    {
     "data": {
      "image/png": "[encoded data removed]",
      "text/plain": [
       "<matplotlib.figure.Figure at 0x16b82b92d68>"
      ]
     },
     "metadata": {},
     "output_type": "display_data"
    },
    {
     "name": "stdout",
     "output_type": "stream",
     "text": [
      "The file has been saved in the path:\n",
      " ..\\Output\\Filtered_Analysis\\2016\\Race vs Mental Health_ID for 2016.png\n"
     ]
    },
    {
     "data": {
      "image/png": "[encoded data removed]",
      "text/plain": [
       "<matplotlib.figure.Figure at 0x16b82593518>"
      ]
     },
     "metadata": {},
     "output_type": "display_data"
    }
   ],
   "source": [
    "\n",
    "print(\"\\Filtered Analysis Graphs\\n\")\n",
    "container1 = widgets.HBox([Year])\n",
    "display(container1)\n",
    "container2 = widgets.HBox([state])\n",
    "display(container2)\n",
    "container3 =  widgets.HBox([select])\n",
    "display(container3)\n",
    "butt=widgets.Button(description=\"Generate Graph\")\n",
    "display(butt)\n",
    "\n",
    "butt.on_click(response)\n"
   ]
  },
  {
   "cell_type": "markdown",
   "metadata": {},
   "source": [
    "### Trend Across Years"
   ]
  },
  {
   "cell_type": "code",
   "execution_count": 42,
   "metadata": {
    "collapsed": true
   },
   "outputs": [],
   "source": [
    "def filter_df(criteria):\n",
    "    flag=True\n",
    "    i=0\n",
    "    year_list=[\"2012\",\"2013\",\"2014\",\"2015\",\"2016\"]\n",
    "    for year in year_list:\n",
    "        DF=All_DF[year]\n",
    "        if flag:\n",
    "            DF=DF[DF[\"Calc_MentalHealth_Value\"]>40]\n",
    "            year_df=DF.pivot_table(index=criteria, values=\"Calc_MentalHealth_Value\",aggfunc=\"count\")\n",
    "            year_df=year_df.rename(columns={\"Calc_MentalHealth_Value\":year})\n",
    "            year_df=year_df.reset_index()\n",
    "            flag=False\n",
    "        else:\n",
    "            DF=DF[DF[\"Calc_MentalHealth_Value\"]>40]\n",
    "            new_df=DF.pivot_table(index=criteria, values=\"Calc_MentalHealth_Value\",aggfunc=\"count\")\n",
    "            new_df=new_df.rename(columns={\"Calc_MentalHealth_Value\":year})\n",
    "            new_df=new_df.reset_index()\n",
    "            year_df=year_df.merge(new_df,on=criteria)\n",
    "    return year_df\n",
    "     "
   ]
  },
  {
   "cell_type": "code",
   "execution_count": 43,
   "metadata": {
    "collapsed": true
   },
   "outputs": [],
   "source": [
    "\n",
    "options=[\"Gender\",\"Employment_Status\", \"Age_Range\" ,\"Race\",\"MetroStatusCode\"]\n",
    "filterselect = widgets.Dropdown(\n",
    "    options=options,\n",
    "    value='Gender',\n",
    "    description='Filter:',\n",
    ")\n",
    "\n"
   ]
  },
  {
   "cell_type": "code",
   "execution_count": 48,
   "metadata": {
    "collapsed": true
   },
   "outputs": [],
   "source": [
    "markers=[\"o\",\"D\",\"8\",\"s\",\">\",\"<\",\"^\",\"v\",\"X\",\"P\",\"H\",\"*\",\"h\",\"d\",\"p\"]\n",
    "colors=[\"maroon\",\"red\",\"lightsalmon\",\"orange\",\"yellow\",\"goldenrod\",\"lightgreen\",\"green\",\"seagreen\",\n",
    "        \"teal\",\"skyblue\",\"blue\",\"indigo\",\"lavender\",\"violet\"]\n",
    "\n",
    "def response(change):\n",
    "    fig, ax = plt.subplots(figsize=(10,5))\n",
    "    year_list=[\"2012\",\"2013\",\"2014\",\"2015\",\"2016\"]\n",
    "    \n",
    "    NDF=filter_df(filterselect.value)\n",
    "    NDF=NDF.set_index(filterselect.value)\n",
    "    sns.set_style(\"whitegrid\")\n",
    "    sns.set_context(rc={\"figure.figsize\":(12,9)})\n",
    "    i=0\n",
    "\n",
    "    for index,row in NDF.iterrows():  \n",
    "        \n",
    "        x_axis=year_list\n",
    "        y_axis=row\n",
    "        plt.legend(handles=[])\n",
    "        \n",
    "        ax.plot(x_axis,y_axis,marker=markers[i],c=colors[i], linestyle='--',markeredgecolor='black',)\n",
    "        \n",
    "        i+=1\n",
    "    \n",
    "    ax.set_xlabel(\"Years\")\n",
    "    ax.set_ylabel(\"Number of People having Mental Health Issues\")\n",
    "    plt.title(\"%s vs Mental Health from 2012 to 2016\"%(filterselect.value))\n",
    "    plt.legend(loc = 'best',bbox_to_anchor=(1, 1), frameon=True)\n",
    "    filename =\"%s vs Mental Health_%s for %s.png\"%(select.value,\"USA\",Year.value)\n",
    "    filepath=os.path.join(\"..\",\"Output\",\"Across_Years_Analysis\",filename)\n",
    "    plt.savefig(filepath,bbox_inches='tight')\n",
    "    print(\"The file has been saved in the path:\\n %s\"%filepath)\n",
    "    plt.show()\n",
    "    "
   ]
  },
  {
   "cell_type": "code",
   "execution_count": 49,
   "metadata": {
    "scrolled": true
   },
   "outputs": [
    {
     "data": {
      "application/vnd.jupyter.widget-view+json": {
       "model_id": "464f7e02165b4bdabf5fd96cba303128",
       "version_major": 2,
       "version_minor": 0
      },
      "text/html": [
       "<p>Failed to display Jupyter Widget of type <code>HBox</code>.</p>\n",
       "<p>\n",
       "  If you're reading this message in the Jupyter Notebook or JupyterLab Notebook, it may mean\n",
       "  that the widgets JavaScript is still loading. If this message persists, it\n",
       "  likely means that the widgets JavaScript library is either not installed or\n",
       "  not enabled. See the <a href=\"https://ipywidgets.readthedocs.io/en/stable/user_install.html\">Jupyter\n",
       "  Widgets Documentation</a> for setup instructions.\n",
       "</p>\n",
       "<p>\n",
       "  If you're reading this message in another frontend (for example, a static\n",
       "  rendering on GitHub or <a href=\"https://nbviewer.jupyter.org/\">NBViewer</a>),\n",
       "  it may mean that your frontend doesn't currently support widgets.\n",
       "</p>\n"
      ],
      "text/plain": [
       "HBox(children=(Dropdown(description='Filter:', options=('Gender', 'Employment_Status', 'Age_Range', 'Race', 'MetroStatusCode'), value='Gender'),))"
      ]
     },
     "metadata": {},
     "output_type": "display_data"
    },
    {
     "data": {
      "application/vnd.jupyter.widget-view+json": {
       "model_id": "cc84fba1a2a1479caa75c53cbbdecc7b",
       "version_major": 2,
       "version_minor": 0
      },
      "text/html": [
       "<p>Failed to display Jupyter Widget of type <code>Button</code>.</p>\n",
       "<p>\n",
       "  If you're reading this message in the Jupyter Notebook or JupyterLab Notebook, it may mean\n",
       "  that the widgets JavaScript is still loading. If this message persists, it\n",
       "  likely means that the widgets JavaScript library is either not installed or\n",
       "  not enabled. See the <a href=\"https://ipywidgets.readthedocs.io/en/stable/user_install.html\">Jupyter\n",
       "  Widgets Documentation</a> for setup instructions.\n",
       "</p>\n",
       "<p>\n",
       "  If you're reading this message in another frontend (for example, a static\n",
       "  rendering on GitHub or <a href=\"https://nbviewer.jupyter.org/\">NBViewer</a>),\n",
       "  it may mean that your frontend doesn't currently support widgets.\n",
       "</p>\n"
      ],
      "text/plain": [
       "Button(description='Generate Graph', style=ButtonStyle())"
      ]
     },
     "metadata": {},
     "output_type": "display_data"
    },
    {
     "name": "stdout",
     "output_type": "stream",
     "text": [
      "The file has been saved in the path:\n",
      " ..\\Output\\Across_Years_Analysis\\Race vs Mental Health_USA for 2016.png\n"
     ]
    },
    {
     "data": {
      "image/png": "[encoded data removed]",
      "text/plain": [
       "<matplotlib.figure.Figure at 0x16b855b3eb8>"
      ]
     },
     "metadata": {},
     "output_type": "display_data"
    }
   ],
   "source": [
    "container =  widgets.HBox([filterselect])\n",
    "display(container)\n",
    "button=widgets.Button(description=\"Generate Graph\")\n",
    "display(button)\n",
    "\n",
    "button.on_click(response)"
   ]
  },
  {
   "cell_type": "code",
   "execution_count": null,
   "metadata": {
    "collapsed": true
   },
   "outputs": [],
   "source": []
  }
 ],
 "metadata": {
  "kernelspec": {
   "display_name": "Python 3",
   "language": "python",
   "name": "python3"
  },
  "language_info": {
   "codemirror_mode": {
    "name": "ipython",
    "version": 3
   },
   "file_extension": ".py",
   "mimetype": "text/x-python",
   "name": "python",
   "nbconvert_exporter": "python",
   "pygments_lexer": "ipython3",
   "version": "3.6.3"
  }
 },
 "nbformat": 4,
 "nbformat_minor": 2
}
