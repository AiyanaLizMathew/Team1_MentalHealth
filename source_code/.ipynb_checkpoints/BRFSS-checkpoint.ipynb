{
 "cells": [
  {
   "cell_type": "code",
   "execution_count": 3,
   "metadata": {
    "collapsed": true
   },
   "outputs": [],
   "source": [
    "import pandas as pd\n",
    "import numpy as np"
   ]
  },
  {
   "cell_type": "code",
   "execution_count": null,
   "metadata": {
    "collapsed": true
   },
   "outputs": [],
   "source": [
    "DF=pd.read_sas(\"LLCP2011.XPT\")"
   ]
  },
  {
   "cell_type": "code",
   "execution_count": null,
   "metadata": {
    "collapsed": true
   },
   "outputs": [],
   "source": [
    "FIP_State = pd.read_csv(\"fipstostate.csv\")\n",
    "FIP_State.head()"
   ]
  },
  {
   "cell_type": "code",
   "execution_count": null,
   "metadata": {
    "collapsed": true
   },
   "outputs": [],
   "source": [
    "DF"
   ]
  },
  {
   "cell_type": "code",
   "execution_count": null,
   "metadata": {
    "collapsed": true
   },
   "outputs": [],
   "source": [
    "NDF=DF[[\"IDATE\",\"_STATE\", \"SEX\", \"_AGEG5YR\", \"_PRACE\", \"EMPLOY\",\"MSCODE\", \"MENTHLTH\", \"_BMI5CAT\",\n",
    "        \"_RFHLTH\",\"_HCVU651\",\"SLEPTIME\",\"CVDINFR4\",\"CVDCRHD4\",\"CVDSTRK3\", \"ASTHNOW\",\"CHCSCNCR\", \n",
    "        \"CHCOCNCR\",\"CHCCOPD1\",\"_DRDXAR1\",\"ADDEPEV2\", \"CHCKIDNY\", \"DIABETE3\",\"PREGNANT\", \"_TOTINDA\",\n",
    "        \"QLMENTL2\",\"QLSTRES2\",\"_RFSMOK3\", \"_RFDRHV4\", \"EMTSUPRT\", \"LSATISFY\",\"_INCOMG\"]]"
   ]
  },
  {
   "cell_type": "code",
   "execution_count": null,
   "metadata": {
    "collapsed": true
   },
   "outputs": [],
   "source": [
    "NDF = NDF.rename(columns={\"_STATE\":\"fips\"})\n",
    "NDF = NDF.merge(FIP_State,on=\"fips\")\n",
    "NDF.drop([\"fips\"],axis=1,inplace=True)"
   ]
  },
  {
   "cell_type": "code",
   "execution_count": null,
   "metadata": {
    "collapsed": true,
    "scrolled": true
   },
   "outputs": [],
   "source": [
    "# Convert date from byte to string\n",
    "NDF[\"IDATE\"] = NDF[\"IDATE\"].str.decode(\"utf-8\")\n",
    "\n",
    "# Convert Sex Field in DF from 1.0 to Male and 2.0 to Female\n",
    "NDF[\"SEX\"] = NDF[\"SEX\"].replace({1.0:\"M\",2.0:\"F\"})\n",
    "\n",
    "NDF[\"MSCODE\"] = NDF[\"MSCODE\"].replace({1.0:\"Urban\", 2.0:\"Urban\", 3.0:\"Urban\", 4.0:\"Urban\", 5.0:\"Rural\"})\n",
    "NDF[\"_AGEG5YR\"] = NDF[\"_AGEG5YR\"].replace({1.0:\"18-24\",2.0:\"25-29\",3.0:\"30-34\",4.0:\"35-39\",5.0:\"40-44\",\n",
    "                                                  6.0:\"45-49\",7.0:\"50-54\",8.0:\"55-59\",9.0:\"60-64\",10.0:\"65-69\",\n",
    "                                                  11.0:\"70-74\",12.0:\"75-79\",13.0:\"80+\",14.0:\"\"})\n",
    "NDF[\"_PRACE\"] = NDF[\"_PRACE\"].replace({1.0:\"White\",2.0:\"Black or African American\",3.0:\"Asian\",\n",
    "                                               4.0:\"Native Hawaiian or Other Pacific Islander\",\n",
    "                                               5.0:\"American Indian, Alaska Native\",6.0:\"Other\",\n",
    "                                               7.0:\"nan\", 8.0:\"Multiracial\",77.0:\"nan\", 99.0:\"nan\"})\n",
    "NDF[\"EMPLOY\"] = NDF[\"EMPLOY\"].replace({1.0:\"Employed\", 2.0:\"Self-Employed\", 3.0:\"Out of work\",\n",
    "                                               4.0:\"Out of work\", 5.0:\"Homemaker\", 6.0:\"Student\",\n",
    "                                               7.0:\"Retired\", 8.0:\"Unable to work\", 9.0:\"nan\"})\n",
    "NDF[\"MENTHLTH\"] = NDF[\"MENTHLTH\"].replace({88:0,77:\"nan\",99:\"nan\"})\n",
    "NDF[\"_RFHLTH\"] = NDF[\"_RFHLTH\"].replace({1:\"Good\",2:\"Bad\",9:\"nan\"})\n",
    "NDF[\"_HCVU651\"] = NDF[\"_HCVU651\"].replace({1:\"Y\", 2:\"N\", 9:\"nan\"})\n",
    "NDF[\"CVDINFR4\"]= NDF[\"CVDINFR4\"].replace({1:\"Y\", 2:\"N\", 7:\"nan\", 9:\"nan\"})\n",
    "NDF[\"CVDCRHD4\"] = NDF[\"CVDCRHD4\"].replace({1:\"Y\", 2:\"N\", 7:\"nan\", 9:\"nan\"})\n",
    "NDF[\"CVDSTRK3\"] = NDF[\"CVDSTRK3\"].replace({1:\"Y\", 2:\"N\", 7:\"nan\", 9:\"nan\"})\n",
    "NDF[\"ASTHNOW\"] = NDF[\"ASTHNOW\"].replace({1:\"Y\", 2:\"N\", 7:\"nan\", 9:\"nan\"})\n",
    "NDF[\"CHCSCNCR\"] = NDF[\"CHCSCNCR\"].replace({1:\"Y\", 2:\"N\", 7:\"nan\", 9:\"nan\"})\n",
    "NDF[\"CHCOCNCR\"] = NDF[\"CHCOCNCR\"].replace({1:\"Y\", 2:\"N\", 7:\"nan\", 9:\"nan\"})\n",
    "NDF[\"CHCCOPD1\"] = NDF[\"CHCCOPD1\"].replace({1:\"Y\", 2:\"N\", 7:\"nan\", 9:\"nan\"})\n",
    "NDF[\"_DRDXAR1\"] = NDF[\"_DRDXAR1\"].replace({1:\"Y\", 2:\"N\"})\n",
    "NDF[\"ADDEPEV2\"] = NDF[\"ADDEPEV2\"].replace({1:\"Y\", 2:\"N\", 7:\"nan\", 9:\"nan\"})\n",
    "NDF[\"CHCKIDNY\"] = NDF[\"CHCKIDNY\"].replace({1:\"Y\", 2:\"N\", 7:\"nan\", 9:\"nan\"})\n",
    "NDF[\"DIABETE3\"] = NDF[\"DIABETE3\"].replace({1:\"Y\", 2:\"N\", 3:\"N\", 4:\"N\", 7:\"nan\", 9:\"nan\"})\n",
    "NDF[\"PREGNANT\"] = NDF[\"PREGNANT\"].replace({1:\"Y\", 2:\"N\", 7:\"nan\", 9:\"nan\"})\n",
    "NDF[\"QLSTRES2\"] = NDF[\"QLSTRES2\"].replace({88:0,77:\"nan\",99:\"nan\"})\n",
    "NDF[\"_RFSMOK3\"] = NDF[\"_RFSMOK3\"].replace({1:\"N\", 2:\"Y\", 9:\"nan\"})\n",
    "NDF[\"_RFDRHV4\"] = NDF[\"_RFDRHV4\"].replace({1:\"N\", 2:\"Y\", 9:\"nan\"})\n",
    "NDF[\"_TOTINDA\"] = NDF[\"_TOTINDA\"].replace({1:\"Y\", 2:\"N\", 9:\"nan\"})\n",
    "NDF[\"_BMI5CAT\"] = NDF[\"_BMI5CAT\"].replace({1:\"Underweight\", 2:\"Normal\", 3:\"Overweight\", 4:\"Obese\" })\n",
    "NDF[\"_INCOMG\"] = NDF[\"_INCOMG\"].replace({1:\"<15000\", 2:\"15000-<25000\", 3: \"25000-<35000\", 4:\"35000-<50000\",\n",
    "                                                5:\"50000+\",9:\"nan\"})\n",
    "# Renaming the columns\n",
    "NDF = NDF.rename(columns={\"SEX\": \"Gender\",\n",
    "                                  \"DATE\": \"Date\",\n",
    "                                  \"_AGEG5YR\":\"Age_Range\",\n",
    "                                  \"_PRACE\":\"Race\",\n",
    "                                  \"EMPLOY\":\"Employment_Status\",\n",
    "                                  \"_INCOMG\": \"Income\",\n",
    "                                  \"MENTHLTH\":\"Mental_Health_Factor\", \n",
    "                                  \"_RFHLTH\": \"General_Health\",\n",
    "                                  \"_HCVU651\":\"Health_Coverage\",\n",
    "                                  \"ADDEPEV2\":\"Chronic_Depression\",\n",
    "                                  \"PREGNANT\": \"Pregnant\",\n",
    "                                  \"QLMENTL2\": \"Depressed_Days\",\n",
    "                                  \"QLSTRES2\":\"Stress_Days\", \n",
    "                                  \"_RFSMOK3\":\"Smoke_Frequency\",\n",
    "                                  \"_RFDRHV4\":\"Alcohol_Frequency\",\n",
    "                                  \"SLEPTIME\":\"Sleep_Hours\",\n",
    "                                  \"state_abbr\":\"State\",\n",
    "                                  \"IDATE\":\"Date\",\n",
    "                                  \"_TOTINDA\":\"Physical_Activity\",\n",
    "                                  \"_BMI5CAT\":\"BMI\",\n",
    "                                  \"MSCODE\":\"MetroStatusCode\",\n",
    "                                  \"EMTSUPRT\" : \"EmotionalSupport_Availability\", \n",
    "                                  \"LSATISFY\" : \"LifeSatisfaction_Level\"})\n",
    "\n",
    "NDF = NDF[[\"Date\",\"State\",\"Gender\",\"Age_Range\",\"BMI\",\"Race\",\"Employment_Status\",\"Income\",\"MetroStatusCode\",\n",
    "                   \"General_Health\",\"Mental_Health_Factor\",\"Health_Coverage\",\"Physical_Activity\",\"Chronic_Depression\",\n",
    "                   \"Pregnant\",\"Depressed_Days\",\"Stress_Days\",\"Smoke_Frequency\", \"Alcohol_Frequency\", \"Sleep_Hours\",\n",
    "                   \"EmotionalSupport_Availability\",\"LifeSatisfaction_Level\",\"CVDINFR4\",\"CVDCRHD4\",\"CVDSTRK3\", \n",
    "                   \"ASTHNOW\",\"CHCSCNCR\", \"CHCOCNCR\",\"CHCCOPD1\",\"_DRDXAR1\", \"CHCKIDNY\", \"DIABETE3\"]]\n",
    "\n",
    "\n",
    "NDF.head()"
   ]
  },
  {
   "cell_type": "code",
   "execution_count": null,
   "metadata": {
    "collapsed": true
   },
   "outputs": [],
   "source": [
    "NDF.to_csv(\"MentalHealth2015.csv\",index=False)"
   ]
  },
  {
   "cell_type": "code",
   "execution_count": null,
   "metadata": {
    "collapsed": true
   },
   "outputs": [],
   "source": [
    "NDF = pd.read_csv(\"MentalHealth2015.csv\",low_memory=False)\n",
    "NDF.drop([\"CVDINFR4\",\"CVDCRHD4\",\"CVDSTRK3\", \"ASTHNOW\",\"CHCSCNCR\", \"CHCOCNCR\",\"CHCCOPD1\",\n",
    "                   \"_DRDXAR1\", \"CHCKIDNY\", \"DIABETE3\"],axis=1,inplace=True)\n",
    "NDF.to_csv(\"MentalHealth2015.csv\",index=False)"
   ]
  },
  {
   "cell_type": "code",
   "execution_count": null,
   "metadata": {
    "collapsed": true
   },
   "outputs": [],
   "source": [
    "NDF.head()"
   ]
  },
  {
   "cell_type": "code",
   "execution_count": null,
   "metadata": {
    "collapsed": true
   },
   "outputs": [],
   "source": [
    "NDF.count()"
   ]
  },
  {
   "cell_type": "code",
   "execution_count": null,
   "metadata": {
    "collapsed": true
   },
   "outputs": [],
   "source": [
    "DF.count()"
   ]
  }
 ],
 "metadata": {
  "kernelspec": {
   "display_name": "Python 3",
   "language": "python",
   "name": "python3"
  },
  "language_info": {
   "codemirror_mode": {
    "name": "ipython",
    "version": 3
   },
   "file_extension": ".py",
   "mimetype": "text/x-python",
   "name": "python",
   "nbconvert_exporter": "python",
   "pygments_lexer": "ipython3",
   "version": "3.6.3"
  }
 },
 "nbformat": 4,
 "nbformat_minor": 2
}
