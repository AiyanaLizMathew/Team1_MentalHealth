{
 "cells": [
  {
   "cell_type": "code",
   "execution_count": 15,
   "metadata": {
    "collapsed": true
   },
   "outputs": [],
   "source": [
    "import pandas as pd\n",
    "import os "
   ]
  },
  {
   "cell_type": "code",
   "execution_count": 16,
   "metadata": {},
   "outputs": [],
   "source": [
    "outputfilepath=os.path.join(\"..\",\"raw_data\",\"output\",\"BRFSS_2014.csv\")\n",
    "DF=pd.read_csv(outputfilepath,low_memory=False)\n",
    "#DF[\"Calc_MentalHealth_Value\"]=[]"
   ]
  },
  {
   "cell_type": "code",
   "execution_count": 17,
   "metadata": {},
   "outputs": [
    {
     "data": {
      "text/plain": [
       "Index(['Date', 'Gender', 'Age_Range', 'Mental_Health_Factor',\n",
       "       'Employment_Status', 'Sleep_Hours', 'General_Health', 'Health_Coverage',\n",
       "       'Chronic_Depression', 'Pregnant', 'Depressed_Days', 'Stress_Days',\n",
       "       'Smoke_Frequency', 'Alcohol_Frequency', 'Race',\n",
       "       'EmotionalSupport_Availability', 'LifeSatisfaction_Level',\n",
       "       'MetroStatusCode', 'Physical_Activity', 'Income', 'BMI', 'State',\n",
       "       'Chronic_Disease'],\n",
       "      dtype='object')"
      ]
     },
     "execution_count": 17,
     "metadata": {},
     "output_type": "execute_result"
    }
   ],
   "source": [
    "DF.columns\n"
   ]
  },
  {
   "cell_type": "code",
   "execution_count": null,
   "metadata": {},
   "outputs": [],
   "source": []
  },
  {
   "cell_type": "code",
   "execution_count": 18,
   "metadata": {
    "collapsed": true
   },
   "outputs": [],
   "source": [
    "DF[\"Calc_MentalHealth_Value\"]=\"\""
   ]
  },
  {
   "cell_type": "code",
   "execution_count": 19,
   "metadata": {},
   "outputs": [],
   "source": [
    "def CalculatedVariable(DF):\n",
    "    \n",
    "    for index,row in DF.iterrows():\n",
    "        CalcVar=0\n",
    "        TotalWght=0\n",
    "        \n",
    "        if row[\"General_Health\"]==\"Poor\":\n",
    "            CalcVar+=10\n",
    "        else:\n",
    "            CalcVar+=0\n",
    "        \n",
    "        # Priority 1\n",
    "        if row[\"Smoke_Frequency\"]==\"Smoker\":\n",
    "            CalcVar+=10\n",
    "        else:\n",
    "            CalcVar+=0\n",
    "\n",
    "        if row[\"Alcohol_Frequency\"]==\"Alcoholic\":\n",
    "            CalcVar+=10\n",
    "        else:\n",
    "            CalcVar+=0\n",
    "        \n",
    "        if row[\"Sleep_Hours\"]<5 or row[\"Sleep_Hours\"]>10 :\n",
    "            CalcVar+=10\n",
    "        else:\n",
    "            CalcVar+=0\n",
    "\n",
    "        # if row[\"Marijuana\"]==\"Y\":\n",
    "            #CalcVar+=10\n",
    "        if row[\"BMI\"]==\"Obese\":\n",
    "            CalcVar+=10\n",
    "        elif row[\"BMI\"]==\"Overweight\":\n",
    "            CalcVar+=8\n",
    "        elif row[\"BMI\"]==\"Underweight\":\n",
    "            CalcVar+=8\n",
    "        else:\n",
    "            CalcVar+=0\n",
    "\n",
    "        if row[\"Physical_Activity\"]==\"N\":\n",
    "            CalcVar+=10\n",
    "        else:\n",
    "            CalcVar+=0\n",
    "\n",
    "    \n",
    "\n",
    "        if row[\"Pregnant\"]==\"Y\":\n",
    "            CalcVar+=10\n",
    "        else:\n",
    "            CalcVar+=0\n",
    "\n",
    "\n",
    "        if row[\"Income\"]==\"<15000\":\n",
    "            CalcVar+=5\n",
    "        elif row[\"Income\"]==\"15000-<25000\":\n",
    "            CalcVar+=4\n",
    "        elif row[\"Income\"]==\"25000-<35000\":\n",
    "            CalcVar+=3\n",
    "        elif row[\"Income\"]==\"35000-<50000\":\n",
    "            CalcVar+=2\n",
    "        elif row[\"Income\"]==\"50000+\":\n",
    "            CalcVar+=1\n",
    "        else:\n",
    "            CalcVar+=0\n",
    "#drop health coverage and use it as filter\n",
    "        #if row[\"Health_Coverage\"]==\"N\":\n",
    "        #    CalcVar+=5\n",
    "        #else:\n",
    "        #    CalcVar+=0\n",
    "\n",
    "        # Priority 3\n",
    "        if row[\"EmotionalSupport_Availability\"]==1 :\n",
    "            CalcVar+=0.5\n",
    "        elif row[\"EmotionalSupport_Availability\"]==2:\n",
    "            CalcVar+=1\n",
    "        elif  row[\"EmotionalSupport_Availability\"]==3:\n",
    "            CalcVar+=1.5\n",
    "        elif row[\"EmotionalSupport_Availability\"]==4:\n",
    "            CalcVar+=2\n",
    "        elif row[\"EmotionalSupport_Availability\"]==5:\n",
    "            CalcVar+=2.5\n",
    "        else:\n",
    "            CalcVar+=0\n",
    "            \n",
    "            \n",
    "        if row[\"LifeSatisfaction_Level\"]==\"Satisfied\":\n",
    "            CalcVar+=0\n",
    "        elif row[\"LifeSatisfaction_Level\"]==\"Not-Satisfied\":\n",
    "            CalcVar+=2.5\n",
    "        \n",
    "        else:\n",
    "            CalcVar+=0\n",
    "\n",
    "       \n",
    "        CalcVar+=row[\"Chronic_Disease\"]\n",
    "        \n",
    "        if row[\"Chronic_Depression\"]==\"Y\":\n",
    "        stress=row[\"Stress_Days\"]*(1/3)\n",
    "        depress=row[\"Depressed_Days\"]*(1/3)\n",
    "        chronic_dep=row[\"Chronic_Depression\"]*(1/3)\n",
    "        avg_depr=(stress+depress+chronic_dep)*(2/3)\n",
    "        \n",
    "        # Checking if male or female and based on that converting the score to 100\n",
    "        if row[\"Gender\"]==\"M\":\n",
    "            TotalWght=(CalcVar+avg_depr)*100/110\n",
    "        else:\n",
    "            TotalWght=(CalcVar+avg_depr)\n",
    "            \n",
    "        DF.set_value(index,\"Calc_MentalHealth_Value\",round(TotalWght,2))    \n"
   ]
  },
  {
   "cell_type": "code",
   "execution_count": 20,
   "metadata": {},
   "outputs": [
    {
     "ename": "TypeError",
     "evalue": "can't multiply sequence by non-int of type 'float'",
     "output_type": "error",
     "traceback": [
      "\u001b[1;31m---------------------------------------------------------------------------\u001b[0m",
      "\u001b[1;31mTypeError\u001b[0m                                 Traceback (most recent call last)",
      "\u001b[1;32m<ipython-input-20-df937cdde1c4>\u001b[0m in \u001b[0;36m<module>\u001b[1;34m()\u001b[0m\n\u001b[1;32m----> 1\u001b[1;33m \u001b[0mCalculatedVariable\u001b[0m\u001b[1;33m(\u001b[0m\u001b[0mDF\u001b[0m\u001b[1;33m)\u001b[0m\u001b[1;33m\u001b[0m\u001b[0m\n\u001b[0m",
      "\u001b[1;32m<ipython-input-19-c0ab533093bb>\u001b[0m in \u001b[0;36mCalculatedVariable\u001b[1;34m(DF)\u001b[0m\n\u001b[0;32m     97\u001b[0m         \u001b[0mstress\u001b[0m\u001b[1;33m=\u001b[0m\u001b[0mrow\u001b[0m\u001b[1;33m[\u001b[0m\u001b[1;34m\"Stress_Days\"\u001b[0m\u001b[1;33m]\u001b[0m\u001b[1;33m*\u001b[0m\u001b[1;33m(\u001b[0m\u001b[1;36m1\u001b[0m\u001b[1;33m/\u001b[0m\u001b[1;36m3\u001b[0m\u001b[1;33m)\u001b[0m\u001b[1;33m\u001b[0m\u001b[0m\n\u001b[0;32m     98\u001b[0m         \u001b[0mdepress\u001b[0m\u001b[1;33m=\u001b[0m\u001b[0mrow\u001b[0m\u001b[1;33m[\u001b[0m\u001b[1;34m\"Depressed_Days\"\u001b[0m\u001b[1;33m]\u001b[0m\u001b[1;33m*\u001b[0m\u001b[1;33m(\u001b[0m\u001b[1;36m1\u001b[0m\u001b[1;33m/\u001b[0m\u001b[1;36m3\u001b[0m\u001b[1;33m)\u001b[0m\u001b[1;33m\u001b[0m\u001b[0m\n\u001b[1;32m---> 99\u001b[1;33m         \u001b[0mchronic_dep\u001b[0m\u001b[1;33m=\u001b[0m\u001b[0mrow\u001b[0m\u001b[1;33m[\u001b[0m\u001b[1;34m\"Chronic_Depression\"\u001b[0m\u001b[1;33m]\u001b[0m\u001b[1;33m*\u001b[0m\u001b[1;33m(\u001b[0m\u001b[1;36m1\u001b[0m\u001b[1;33m/\u001b[0m\u001b[1;36m3\u001b[0m\u001b[1;33m)\u001b[0m\u001b[1;33m\u001b[0m\u001b[0m\n\u001b[0m\u001b[0;32m    100\u001b[0m         \u001b[0mavg_depr\u001b[0m\u001b[1;33m=\u001b[0m\u001b[1;33m(\u001b[0m\u001b[0mstress\u001b[0m\u001b[1;33m+\u001b[0m\u001b[0mdepress\u001b[0m\u001b[1;33m+\u001b[0m\u001b[0mchronic_dep\u001b[0m\u001b[1;33m)\u001b[0m\u001b[1;33m*\u001b[0m\u001b[1;33m(\u001b[0m\u001b[1;36m2\u001b[0m\u001b[1;33m/\u001b[0m\u001b[1;36m3\u001b[0m\u001b[1;33m)\u001b[0m\u001b[1;33m\u001b[0m\u001b[0m\n\u001b[0;32m    101\u001b[0m \u001b[1;33m\u001b[0m\u001b[0m\n",
      "\u001b[1;31mTypeError\u001b[0m: can't multiply sequence by non-int of type 'float'"
     ]
    }
   ],
   "source": [
    "CalculatedVariable(DF)"
   ]
  },
  {
   "cell_type": "code",
   "execution_count": null,
   "metadata": {
    "collapsed": true
   },
   "outputs": [],
   "source": [
    "DF.to_csv(outputfilepath,index=False)"
   ]
  },
  {
   "cell_type": "code",
   "execution_count": null,
   "metadata": {
    "collapsed": true
   },
   "outputs": [],
   "source": []
  },
  {
   "cell_type": "code",
   "execution_count": null,
   "metadata": {
    "collapsed": true
   },
   "outputs": [],
   "source": []
  }
 ],
 "metadata": {
  "kernelspec": {
   "display_name": "Python 3",
   "language": "python",
   "name": "python3"
  },
  "language_info": {
   "codemirror_mode": {
    "name": "ipython",
    "version": 3
   },
   "file_extension": ".py",
   "mimetype": "text/x-python",
   "name": "python",
   "nbconvert_exporter": "python",
   "pygments_lexer": "ipython3",
   "version": "3.6.3"
  }
 },
 "nbformat": 4,
 "nbformat_minor": 2
}
