{
 "cells": [
  {
   "cell_type": "code",
   "execution_count": 33,
   "metadata": {},
   "outputs": [],
   "source": [
    "#import dependencies\n",
    "%matplotlib inline\n",
    "from ipywidgets import widgets\n",
    "from IPython.display import display\n",
    "import numpy as np\n",
    "import pandas as pd\n",
    "import plotly.graph_objs as go\n",
    "import plotly.plotly as py\n",
    "import os\n",
    "from plotly.graph_objs import *\n",
    "from plotly.widgets import GraphWidget\n",
    "import seaborn as sns\n",
    "import matplotlib.pyplot as plt"
   ]
  },
  {
   "cell_type": "code",
   "execution_count": 3,
   "metadata": {},
   "outputs": [
    {
     "name": "stdout",
     "output_type": "stream",
     "text": [
      "Completed File :..\\raw_data\\output\\MentalHealth2012.csv\n",
      "Completed File :..\\raw_data\\output\\MentalHealth2013.csv\n",
      "Completed File :..\\raw_data\\output\\MentalHealth2014.csv\n",
      "Completed File :..\\raw_data\\output\\MentalHealth2015.csv\n",
      "Completed File :..\\raw_data\\output\\MentalHealth2016.csv\n"
     ]
    }
   ],
   "source": [
    "#create the yearlist\n",
    "year_list=[\"2012\",\"2013\",\"2014\",\"2015\",\"2016\"]\n",
    "#assign filename\n",
    "file_names=\"MentalHealth\"\n",
    "#create a dictionary to stor dataframe for all years\n",
    "All_DF={}\n",
    "#loop through each year\n",
    "for years in year_list:\n",
    "    #create filename based on filename, year\n",
    "    file_name=file_names+years+\".csv\"\n",
    "    #assign file path\n",
    "    filepath=os.path.join(\"..\",\"raw_data\",\"output\",file_name)\n",
    "    #store data frme to dictionary with years as key and dataframe as value\n",
    "    All_DF[years]=pd.read_csv(filepath,low_memory=False)\n",
    "    print(\"Completed File :\" + filepath)\n",
    "#assign markers and palette for use in graphs\n",
    "markers=[\"o\",\"D\",\"8\",\"s\",\">\",\"<\",\"^\",\"v\",\"X\",\"P\",\"H\",\"*\",\"h\",\"d\",\"p\"]\n",
    "colors=[\"maroon\",\"red\",\"lightsalmon\",\"orange\",\"yellow\",\"goldenrod\",\"lightgreen\",\"green\",\"seagreen\",\n",
    "        \"teal\",\"skyblue\",\"blue\",\"indigo\",\"lavender\",\"violet\"]"
   ]
  },
  {
   "cell_type": "markdown",
   "metadata": {},
   "source": [
    "## Trends Based on State and Filters"
   ]
  },
  {
   "cell_type": "code",
   "execution_count": 45,
   "metadata": {
    "collapsed": true
   },
   "outputs": [],
   "source": [
    "#create the GUI\n",
    "Year = widgets.IntSlider(\n",
    "    value=2012,\n",
    "    min=2012,\n",
    "    max=2015,\n",
    "    step=1,\n",
    "    description='Year:',\n",
    "    continuous_update = False\n",
    ")\n",
    "\n",
    "#assign statelist to a random year state value\n",
    "Statelist=list(All_DF[\"2014\"]['State'].unique())\n",
    "Statelist.append(\"ALL\")\n",
    "state = widgets.Dropdown(\n",
    "    options=Statelist,\n",
    "    value='ALL',\n",
    "    description='State',\n",
    ")\n",
    "\n",
    "#create the filters\n",
    "Selectionlist=[\"Gender\",\"Age_Range\",\"Race\",\"Employment_Status\",\"MetroStatusCode\"]\n",
    "select = widgets.Dropdown(\n",
    "    options=Selectionlist,\n",
    "    value='Gender',\n",
    "    description='Filter:',\n",
    ")"
   ]
  },
  {
   "cell_type": "code",
   "execution_count": 46,
   "metadata": {
    "collapsed": true
   },
   "outputs": [],
   "source": [
    "#create a function to respond based on button click\n",
    "def response(change):\n",
    "    \n",
    "    plt.clf()\n",
    "    \n",
    "    #Extract dataframe from dictionary based on year\n",
    "    DF=All_DF[str(Year.value)]\n",
    "   \n",
    "    #based on selected state , display graph. If state=ALL, plot details for USA\n",
    "    if state.value!=\"ALL\":\n",
    "        #create filter list, with mental weight factor>40 and the state\n",
    "        filter_list = [i and j for i,j in zip(DF['State'] == state.value,DF[\"Calc_MentalHealth_Value\"]>40)]\n",
    "        #assign filtered dataframe to t_df\n",
    "        t_df=DF[filter_list]\n",
    "        #create temp_df to get count of mental weight factor\n",
    "        temp_df = t_df.pivot_table(index=select.value,values=\"Calc_MentalHealth_Value\", aggfunc='count')\n",
    "        #give plot features\n",
    "        sns.set_style(\"whitegrid\")\n",
    "        sns.set_context(rc={\"figure.figsize\":(12,9)})\n",
    "        #plot bargraph\n",
    "        fig=sns.barplot(x=\"Calc_MentalHealth_Value\",y=temp_df.index.values,data=temp_df,palette=sns.set_palette(colors))\n",
    "        #set titles and labels\n",
    "        plt.title(\"%s vs Number of People having Mental Health in %s for %s\"%(select.value,state.value,Year.value),fontsize=14)\n",
    "        fig.set(xlabel='Number of People having Mental Health Issues', ylabel=select.value)\n",
    "        #set filepath and name for saving graph\n",
    "        filename =\"%s vs Mental Health_%s for %s.png\"%(select.value,state.value,Year.value)\n",
    "        filepath=os.path.join(\"..\",\"Analysis_Output\",str(Year.value),filename)\n",
    "        plt.savefig(filepath)\n",
    "        print(\"The file has been saved in the path:\\n %s\"%filepath)\n",
    "        plt.show()\n",
    "\n",
    "    else:\n",
    "        #create filter list, with mental weight factor>40, for USA(ALL)\n",
    "        filter_list = [i  for i in zip(DF[\"Calc_MentalHealth_Value\"]>40)]\n",
    "        #assign filtered dataframe to t_df\n",
    "        t_df = DF[filter_list]\n",
    "        #create temp_df to get count of mental weight factor\n",
    "        temp_df = t_df.pivot_table(index=select.value,values=\"Calc_MentalHealth_Value\", aggfunc='count')\n",
    "        #give plot features\n",
    "        sns.set_style(\"whitegrid\")\n",
    "        sns.set_context(rc={\"figure.figsize\":(12,9)})\n",
    "        #set titles and labels\n",
    "        fig=sns.barplot(x=\"Calc_MentalHealth_Value\",y=temp_df.index.values,data=temp_df,palette=sns.set_palette(colors))\n",
    "        plt.title(\"%s vs Number of People having Mental Health in %s for %s\"%(select.value,\"USA\",Year.value),fontsize=14)\n",
    "        fig.set(xlabel='Number of People having Mental Health Issues', ylabel=select.value)\n",
    "        #set filepath and name for saving graph\n",
    "        filename =\"%s vs Mental Health_%s for %s.png\"%(select.value,\"USA\",Year.value)\n",
    "        filepath=os.path.join(\"..\",\"Analysis_Output\",str(Year.value),filename)\n",
    "        plt.savefig(filepath)\n",
    "        print(\"The file has been saved in the path:\\n %s\"%filepath)\n",
    "        plt.show()\n",
    "\n",
    "\n",
    "\n",
    "\n",
    "        "
   ]
  },
  {
   "cell_type": "code",
   "execution_count": 47,
   "metadata": {
    "scrolled": true
   },
   "outputs": [
    {
     "name": "stdout",
     "output_type": "stream",
     "text": [
      "\n",
      "Bar Graph\n",
      "\n"
     ]
    },
    {
     "data": {
      "application/vnd.jupyter.widget-view+json": {
       "model_id": "07a9fd0bab1c41d38dea4e89c88354fd",
       "version_major": 2,
       "version_minor": 0
      },
      "text/html": [
       "<p>Failed to display Jupyter Widget of type <code>HBox</code>.</p>\n",
       "<p>\n",
       "  If you're reading this message in the Jupyter Notebook or JupyterLab Notebook, it may mean\n",
       "  that the widgets JavaScript is still loading. If this message persists, it\n",
       "  likely means that the widgets JavaScript library is either not installed or\n",
       "  not enabled. See the <a href=\"https://ipywidgets.readthedocs.io/en/stable/user_install.html\">Jupyter\n",
       "  Widgets Documentation</a> for setup instructions.\n",
       "</p>\n",
       "<p>\n",
       "  If you're reading this message in another frontend (for example, a static\n",
       "  rendering on GitHub or <a href=\"https://nbviewer.jupyter.org/\">NBViewer</a>),\n",
       "  it may mean that your frontend doesn't currently support widgets.\n",
       "</p>\n"
      ],
      "text/plain": [
       "HBox(children=(IntSlider(value=2012, continuous_update=False, description='Year:', max=2015, min=2012),))"
      ]
     },
     "metadata": {},
     "output_type": "display_data"
    },
    {
     "data": {
      "application/vnd.jupyter.widget-view+json": {
       "model_id": "6c4e97c750f34fd6a1654b0316bcb527",
       "version_major": 2,
       "version_minor": 0
      },
      "text/html": [
       "<p>Failed to display Jupyter Widget of type <code>HBox</code>.</p>\n",
       "<p>\n",
       "  If you're reading this message in the Jupyter Notebook or JupyterLab Notebook, it may mean\n",
       "  that the widgets JavaScript is still loading. If this message persists, it\n",
       "  likely means that the widgets JavaScript library is either not installed or\n",
       "  not enabled. See the <a href=\"https://ipywidgets.readthedocs.io/en/stable/user_install.html\">Jupyter\n",
       "  Widgets Documentation</a> for setup instructions.\n",
       "</p>\n",
       "<p>\n",
       "  If you're reading this message in another frontend (for example, a static\n",
       "  rendering on GitHub or <a href=\"https://nbviewer.jupyter.org/\">NBViewer</a>),\n",
       "  it may mean that your frontend doesn't currently support widgets.\n",
       "</p>\n"
      ],
      "text/plain": [
       "HBox(children=(Dropdown(description='State', index=52, options=('AL', 'AK', 'AZ', 'AR', 'CA', 'CO', 'CT', 'DE', 'FL', 'GA', 'HI', 'ID', 'IL', 'IN', 'IA', 'KS', 'KY', 'LA', 'ME', 'MD', 'MA', 'MI', 'MN', 'MS', 'MO', 'MT', 'NE', 'NV', 'NH', 'NJ', 'NM', 'NY', 'NC', 'ND', 'OH', 'OK', 'OR', 'PA', 'RI', 'SC', 'SD', 'TN', 'TX', 'UT', 'VT', 'VA', 'WA', 'WV', 'WI', 'WY', 'GU', 'PR', 'ALL'), value='ALL'),))"
      ]
     },
     "metadata": {},
     "output_type": "display_data"
    },
    {
     "data": {
      "application/vnd.jupyter.widget-view+json": {
       "model_id": "f86b1cb2f876476e91aee5d0a3cf0edd",
       "version_major": 2,
       "version_minor": 0
      },
      "text/html": [
       "<p>Failed to display Jupyter Widget of type <code>HBox</code>.</p>\n",
       "<p>\n",
       "  If you're reading this message in the Jupyter Notebook or JupyterLab Notebook, it may mean\n",
       "  that the widgets JavaScript is still loading. If this message persists, it\n",
       "  likely means that the widgets JavaScript library is either not installed or\n",
       "  not enabled. See the <a href=\"https://ipywidgets.readthedocs.io/en/stable/user_install.html\">Jupyter\n",
       "  Widgets Documentation</a> for setup instructions.\n",
       "</p>\n",
       "<p>\n",
       "  If you're reading this message in another frontend (for example, a static\n",
       "  rendering on GitHub or <a href=\"https://nbviewer.jupyter.org/\">NBViewer</a>),\n",
       "  it may mean that your frontend doesn't currently support widgets.\n",
       "</p>\n"
      ],
      "text/plain": [
       "HBox(children=(Dropdown(description='Filter:', options=('Gender', 'Age_Range', 'Race', 'Employment_Status', 'MetroStatusCode'), value='Gender'),))"
      ]
     },
     "metadata": {},
     "output_type": "display_data"
    },
    {
     "data": {
      "application/vnd.jupyter.widget-view+json": {
       "model_id": "5ed43ccac17f4e2d8e82b3e819fe7f99",
       "version_major": 2,
       "version_minor": 0
      },
      "text/html": [
       "<p>Failed to display Jupyter Widget of type <code>Button</code>.</p>\n",
       "<p>\n",
       "  If you're reading this message in the Jupyter Notebook or JupyterLab Notebook, it may mean\n",
       "  that the widgets JavaScript is still loading. If this message persists, it\n",
       "  likely means that the widgets JavaScript library is either not installed or\n",
       "  not enabled. See the <a href=\"https://ipywidgets.readthedocs.io/en/stable/user_install.html\">Jupyter\n",
       "  Widgets Documentation</a> for setup instructions.\n",
       "</p>\n",
       "<p>\n",
       "  If you're reading this message in another frontend (for example, a static\n",
       "  rendering on GitHub or <a href=\"https://nbviewer.jupyter.org/\">NBViewer</a>),\n",
       "  it may mean that your frontend doesn't currently support widgets.\n",
       "</p>\n"
      ],
      "text/plain": [
       "Button(description='Generate Graph', style=ButtonStyle())"
      ]
     },
     "metadata": {},
     "output_type": "display_data"
    }
   ],
   "source": [
    "#assign containers for placing GUI\n",
    "print(\"\\nBar Graph\\n\")\n",
    "container1 = widgets.HBox([Year])\n",
    "display(container1)\n",
    "container2 = widgets.HBox([state])\n",
    "display(container2)\n",
    "container3 =  widgets.HBox([select])\n",
    "display(container3)\n",
    "#create a button to generate graph\n",
    "button=widgets.Button(description=\"Generate Graph\")\n",
    "display(button)\n",
    "\n",
    "button.on_click(response)\n"
   ]
  },
  {
   "cell_type": "code",
   "execution_count": null,
   "metadata": {
    "collapsed": true
   },
   "outputs": [],
   "source": [
    "print(\"End\")"
   ]
  },
  {
   "cell_type": "markdown",
   "metadata": {},
   "source": [
    "### Trend Across Years"
   ]
  },
  {
   "cell_type": "code",
   "execution_count": 48,
   "metadata": {
    "collapsed": true
   },
   "outputs": [],
   "source": [
    "#function filter_df() used to create df based on a criteria selected by user\n",
    "def filter_df(criteria):\n",
    "    #set flag\n",
    "    flag=True\n",
    "    for year in year_list:\n",
    "        #based on year filter out df\n",
    "        DF=All_DF[year]\n",
    "        # give the mental health factor count filter\n",
    "        DF=DF[DF[\"Calc_MentalHealth_Value\"]>40]\n",
    "        #if it is the first file, create dataframe as store values\n",
    "        if flag:\n",
    "            #create datafraem with count of people with mental factor>40\n",
    "            year_df=DF.pivot_table(index=criteria, values=\"Calc_MentalHealth_Value\",aggfunc='count')\n",
    "            year_df=year_df.rename(columns={\"Calc_MentalHealth_Value\":year})\n",
    "            #reset index\n",
    "            year_df=year_df.reset_index()\n",
    "            #SET flag to false\n",
    "            flag=False\n",
    "        else:\n",
    "            #since it is second file(if flag=false), create other df and merge based on criteria\n",
    "            new_df=DF.pivot_table(index=criteria, values=\"Calc_MentalHealth_Value\",aggfunc='count')\n",
    "            new_df=new_df.rename(columns={\"Calc_MentalHealth_Value\":year})\n",
    "            #reset index\n",
    "            new_df=new_df.reset_index()\n",
    "            #merge the dfs\n",
    "            year_df=year_df.merge(new_df,on=criteria)\n",
    "    #return the df\n",
    "    return year_df\n",
    "     \n"
   ]
  },
  {
   "cell_type": "code",
   "execution_count": 52,
   "metadata": {
    "collapsed": true
   },
   "outputs": [],
   "source": [
    "#create GUI\n",
    "options=[\"MetroStatusCode\", \"Employment_Status\", \"Gender\", \"Age_Range\" ,\"Race\"]\n",
    "select_line = widgets.Dropdown(\n",
    "    options=options,\n",
    "    value='Gender',\n",
    "    description='Filter:',\n",
    ")\n",
    "\n"
   ]
  },
  {
   "cell_type": "code",
   "execution_count": 53,
   "metadata": {
    "collapsed": true
   },
   "outputs": [],
   "source": [
    "#function to check response\n",
    "def response_line(change):\n",
    "    fig, ax = plt.subplots(figsize=(10,5))\n",
    "    \n",
    "    #create df using select criteria\n",
    "    NDF=filter_df(select_line.value)\n",
    "    NDF=NDF.set_index(select_line.value)\n",
    "    sns.set_style(\"whitegrid\")\n",
    "    sns.set_context(rc={\"figure.figsize\":(12,9)})\n",
    "    i=0\n",
    "\n",
    "    for index,row in NDF.iterrows():  \n",
    "        #set x and y axis\n",
    "        x_axis=year_list\n",
    "        y_axis=row\n",
    "        #create the graph\n",
    "        ax.plot(x_axis,y_axis,marker=markers[i],c=colors[i], linestyle='--',markeredgecolor='black',)\n",
    "        i+=1\n",
    "    #set x and y axis\n",
    "    ax.set_xlabel(\"Years\")\n",
    "    ax.set_ylabel(\"Mental Health\")\n",
    "    plt.title(\"%s vs Mental Health from 2012 to 2016\"%(select_line.value))\n",
    "    plt.legend(loc = 'best',bbox_to_anchor=(1, 0.5), frameon=True)\n",
    "    #set filepath and name for saving graph\n",
    "    filename =\"%s vs Mental Health_%s from %s.png\"%(select.value,\"USA\" ,\"2012 to 2016\")\n",
    "    filepath=os.path.join(\"..\",\"Analysis_Output\",\"Across_Years_Analysis\",filename)\n",
    "    plt.savefig(filepath,bbox_inches='tight')\n",
    "    print(\"The file has been saved in the path:\\n %s\"%filepath)\n",
    "    plt.show()\n",
    "    "
   ]
  },
  {
   "cell_type": "code",
   "execution_count": 54,
   "metadata": {},
   "outputs": [
    {
     "data": {
      "application/vnd.jupyter.widget-view+json": {
       "model_id": "b37d4b1695ba444ba44835aea52101ed",
       "version_major": 2,
       "version_minor": 0
      },
      "text/html": [
       "<p>Failed to display Jupyter Widget of type <code>HBox</code>.</p>\n",
       "<p>\n",
       "  If you're reading this message in the Jupyter Notebook or JupyterLab Notebook, it may mean\n",
       "  that the widgets JavaScript is still loading. If this message persists, it\n",
       "  likely means that the widgets JavaScript library is either not installed or\n",
       "  not enabled. See the <a href=\"https://ipywidgets.readthedocs.io/en/stable/user_install.html\">Jupyter\n",
       "  Widgets Documentation</a> for setup instructions.\n",
       "</p>\n",
       "<p>\n",
       "  If you're reading this message in another frontend (for example, a static\n",
       "  rendering on GitHub or <a href=\"https://nbviewer.jupyter.org/\">NBViewer</a>),\n",
       "  it may mean that your frontend doesn't currently support widgets.\n",
       "</p>\n"
      ],
      "text/plain": [
       "HBox(children=(Dropdown(description='Filter:', index=2, options=('MetroStatusCode', 'Employment_Status', 'Gender', 'Age_Range', 'Race'), value='Gender'),))"
      ]
     },
     "metadata": {},
     "output_type": "display_data"
    },
    {
     "data": {
      "application/vnd.jupyter.widget-view+json": {
       "model_id": "d21497e2f77d465dadfaa53457983597",
       "version_major": 2,
       "version_minor": 0
      },
      "text/html": [
       "<p>Failed to display Jupyter Widget of type <code>Button</code>.</p>\n",
       "<p>\n",
       "  If you're reading this message in the Jupyter Notebook or JupyterLab Notebook, it may mean\n",
       "  that the widgets JavaScript is still loading. If this message persists, it\n",
       "  likely means that the widgets JavaScript library is either not installed or\n",
       "  not enabled. See the <a href=\"https://ipywidgets.readthedocs.io/en/stable/user_install.html\">Jupyter\n",
       "  Widgets Documentation</a> for setup instructions.\n",
       "</p>\n",
       "<p>\n",
       "  If you're reading this message in another frontend (for example, a static\n",
       "  rendering on GitHub or <a href=\"https://nbviewer.jupyter.org/\">NBViewer</a>),\n",
       "  it may mean that your frontend doesn't currently support widgets.\n",
       "</p>\n"
      ],
      "text/plain": [
       "Button(description='Generate Graph', style=ButtonStyle())"
      ]
     },
     "metadata": {},
     "output_type": "display_data"
    }
   ],
   "source": [
    "container =  widgets.HBox([select_line])\n",
    "display(container)\n",
    "button_line=widgets.Button(description=\"Generate Graph\")\n",
    "display(button_line)\n",
    "\n",
    "button_line.on_click(response_line)"
   ]
  },
  {
   "cell_type": "code",
   "execution_count": null,
   "metadata": {
    "collapsed": true
   },
   "outputs": [],
   "source": []
  },
  {
   "cell_type": "code",
   "execution_count": null,
   "metadata": {
    "collapsed": true
   },
   "outputs": [],
   "source": []
  }
 ],
 "metadata": {
  "kernelspec": {
   "display_name": "Python 3",
   "language": "python",
   "name": "python3"
  },
  "language_info": {
   "codemirror_mode": {
    "name": "ipython",
    "version": 3
   },
   "file_extension": ".py",
   "mimetype": "text/x-python",
   "name": "python",
   "nbconvert_exporter": "python",
   "pygments_lexer": "ipython3",
   "version": "3.6.3"
  }
 },
 "nbformat": 4,
 "nbformat_minor": 2
}
