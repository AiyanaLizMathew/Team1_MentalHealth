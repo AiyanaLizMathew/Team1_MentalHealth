{
 "cells": [
  {
   "cell_type": "code",
   "execution_count": 3,
   "metadata": {},
   "outputs": [
    {
     "name": "stdout",
     "output_type": "stream",
     "text": [
      "MentalHealth2012.csv\n",
      "..\\raw_data\\output\\MentalHealth2012.csv\n",
      "MentalHealth2013.csv\n",
      "..\\raw_data\\output\\MentalHealth2013.csv\n",
      "MentalHealth2014.csv\n",
      "..\\raw_data\\output\\MentalHealth2014.csv\n",
      "MentalHealth2015.csv\n",
      "..\\raw_data\\output\\MentalHealth2015.csv\n",
      "MentalHealth2016.csv\n",
      "..\\raw_data\\output\\MentalHealth2016.csv\n"
     ]
    }
   ],
   "source": [
    "import pandas as pd\n",
    "import numpy as np\n",
    "import os\n",
    "import plotly.plotly as py\n",
    "from plotly.graph_objs import *\n",
    "py.sign_in('Aswathy_Mohan', 'iXhlpq2JNpoFcXTBKbrf')\n",
    "\n",
    "year_list=[\"2012\",\"2013\",\"2014\",\"2015\",\"2016\"]\n",
    "file_names=\"MentalHealth\"\n",
    "All_DF={}\n",
    "for years in year_list:\n",
    "    file_name=file_names+years+\".csv\"\n",
    "    print(file_name)\n",
    "    outputfilepath=os.path.join(\"..\",\"raw_data\",\"output\",file_name)\n",
    "    print(outputfilepath)\n",
    "    #dataframe_var=\n",
    "    #print(\"All_DF\"+years)\n",
    "    All_DF[years]=pd.read_csv(outputfilepath,low_memory=False)\n",
    "    \n",
    "\n"
   ]
  },
  {
   "cell_type": "code",
   "execution_count": 7,
   "metadata": {},
   "outputs": [
    {
     "data": {
      "text/html": [
       "<iframe id=\"igraph\" scrolling=\"no\" style=\"border:none;\" seamless=\"seamless\" src=\"https://plot.ly/~Aswathy_Mohan/81.embed\" height=\"525px\" width=\"100%\"></iframe>"
      ],
      "text/plain": [
       "<plotly.tools.PlotlyDisplay object>"
      ]
     },
     "execution_count": 7,
     "metadata": {},
     "output_type": "execute_result"
    }
   ],
   "source": [
    "    \n",
    "\n",
    "    \n",
    "outputfilepath=os.path.join(\"..\",\"raw_data\",\"output\",\"MentalHealth2012.csv\")\n",
    "DF=pd.read_csv(outputfilepath)\n",
    "DF=DF[DF['Calc_MentalHealth_Value']>40]\n",
    "df_table= DF.pivot_table(index='State', values='Calc_MentalHealth_Value', aggfunc='count')\n",
    "\n",
    "trace1 = {\n",
    "  \"z\": df_table[\"Calc_MentalHealth_Value\"],\n",
    "  \"colorbar\": {\n",
    "    \"lenmode\": \"pixels\", \n",
    "    \"title\": \"\", \n",
    "    \"titleside\": \"right\", \n",
    "    \"xpad\": 0, \n",
    "    \"ypad\": 0\n",
    "  },\n",
    "\n",
    "  \"colorscale\": [\n",
    "      [0, \"#FFF5F0\"], \n",
    "      [0.111111111111, \"#FEE2D5\"], \n",
    "      [0.222222222222, \"#FDC3AC\"], \n",
    "      [0.333333333333, \"#FDA081\"], \n",
    "      [0.444444444444, \"#FC7C5C\"], \n",
    "      [0.555555555556, \"#F6573D\"], \n",
    "      [0.666666666667, \"#E33127\"], \n",
    "      [0.777777777778, \"#C2161B\"], \n",
    "      [0.888888888889, \"#9E0D14\"], \n",
    "      [1, \"#67000D\"]], \n",
    "  \"locationmode\": \"USA-states\", \n",
    "  \"locations\": df_table.index.values,\n",
    "    \n",
    "  \"marker\": {\"line\": {\n",
    "      \"color\": \"rgba(255,255,255,1)\", \n",
    "      \"width\": 1\n",
    "    }}, \n",
    "  #\"text\": df_table['text'],\n",
    "  \"type\": \"choropleth\"\n",
    "}\n",
    "data = Data([trace1])\n",
    "layout = {\n",
    "  \"geo\": {\"scope\": \"usa\"}, \n",
    "  \"title\": \"Mental Depression Across US\"\n",
    "}\n",
    "fig = Figure(data=data, layout=layout)\n",
    "py.iplot(fig)\n",
    "#print(years)"
   ]
  },
  {
   "cell_type": "code",
   "execution_count": 2,
   "metadata": {},
   "outputs": [
    {
     "name": "stdout",
     "output_type": "stream",
     "text": [
      "Hi\n"
     ]
    }
   ],
   "source": [
    "print(\"Hi\")"
   ]
  },
  {
   "cell_type": "code",
   "execution_count": 1,
   "metadata": {
    "collapsed": true
   },
   "outputs": [],
   "source": [
    "import plotly\n",
    "import plotly.plotly as py\n",
    "\n",
    "import json\n",
    "import requests\n",
    "from requests.auth import HTTPBasicAuth\n",
    "\n",
    "username = 'Aswathy_Mohan' # Replace with YOUR USERNAME\n",
    "api_key = 'iXhlpq2JNpoFcXTBKbrf' # Replace with YOUR API KEY\n",
    "\n",
    "auth = HTTPBasicAuth(username, api_key)\n",
    "headers = {'Plotly-Client-Platform': 'python'}\n",
    "\n",
    "plotly.tools.set_credentials_file(username=username, api_key=api_key)\n",
    "\n",
    "def get_pages(username, page_size):\n",
    "    url = 'https://api.plot.ly/v2/folders/all?user='+username+'&page_size='+str(page_size)\n",
    "    response = requests.get(url, auth=auth, headers=headers)\n",
    "    if response.status_code != 200:\n",
    "        return\n",
    "    page = json.loads(response.content)\n",
    "    yield page\n",
    "    while True:\n",
    "        resource = page['children']['next'] \n",
    "        if not resource:\n",
    "            break\n",
    "        response = requests.get(resource, auth=auth, headers=headers)\n",
    "        if response.status_code != 200:\n",
    "            break\n",
    "        page = json.loads(response.content)\n",
    "        yield page\n",
    "        \n",
    "def permanently_delete_files(username, page_size=500, filetype_to_delete='plot'):\n",
    "    for page in get_pages(username, page_size):\n",
    "        for x in range(0, len(page['children']['results'])):\n",
    "            fid = page['children']['results'][x]['fid']\n",
    "            res = requests.get('https://api.plot.ly/v2/files/' + fid, auth=auth, headers=headers)\n",
    "            res.raise_for_status()\n",
    "            if res.status_code == 200:\n",
    "                json_res = json.loads(res.content)\n",
    "                if json_res['filetype'] == filetype_to_delete:\n",
    "                    # move to trash\n",
    "                    requests.post('https://api.plot.ly/v2/files/'+fid+'/trash', auth=auth, headers=headers)\n",
    "                    # permanently delete\n",
    "                    requests.delete('https://api.plot.ly/v2/files/'+fid+'/permanent_delete', auth=auth, headers=headers)\n",
    "\n",
    "permanently_delete_files(username, filetype_to_delete='plot')\n",
    "permanently_delete_files(username, filetype_to_delete='grid')"
   ]
  },
  {
   "cell_type": "code",
   "execution_count": null,
   "metadata": {
    "collapsed": true
   },
   "outputs": [],
   "source": []
  }
 ],
 "metadata": {
  "kernelspec": {
   "display_name": "Python 3",
   "language": "python",
   "name": "python3"
  },
  "language_info": {
   "codemirror_mode": {
    "name": "ipython",
    "version": 3
   },
   "file_extension": ".py",
   "mimetype": "text/x-python",
   "name": "python",
   "nbconvert_exporter": "python",
   "pygments_lexer": "ipython3",
   "version": "3.6.3"
  }
 },
 "nbformat": 4,
 "nbformat_minor": 2
}
