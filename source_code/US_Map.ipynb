{
 "cells": [
  {
   "cell_type": "code",
   "execution_count": 1,
   "metadata": {},
   "outputs": [
    {
     "name": "stdout",
     "output_type": "stream",
     "text": [
      "MentalHealth2012.csv\n",
      "..\\raw_data\\output\\MentalHealth2012.csv\n",
      "MentalHealth2013.csv\n",
      "..\\raw_data\\output\\MentalHealth2013.csv\n",
      "MentalHealth2014.csv\n",
      "..\\raw_data\\output\\MentalHealth2014.csv\n",
      "MentalHealth2015.csv\n",
      "..\\raw_data\\output\\MentalHealth2015.csv\n",
      "MentalHealth2016.csv\n",
      "..\\raw_data\\output\\MentalHealth2016.csv\n"
     ]
    }
   ],
   "source": [
    "import pandas as pd\n",
    "import numpy as np\n",
    "import os\n",
    "import plotly.plotly as py\n",
    "from plotly.graph_objs import *\n",
    "py.sign_in('Aswathy_Mohan', 'iXhlpq2JNpoFcXTBKbrf')\n",
    "\n",
    "year_list=[\"2012\",\"2013\",\"2014\",\"2015\",\"2016\"]\n",
    "file_names=\"MentalHealth\"\n",
    "All_DF={}\n",
    "for years in year_list:\n",
    "    file_name=file_names+years+\".csv\"\n",
    "    print(file_name)\n",
    "    outputfilepath=os.path.join(\"..\",\"raw_data\",\"output\",file_name)\n",
    "    print(outputfilepath)\n",
    "    #dataframe_var=\n",
    "    #print(\"All_DF\"+years)\n",
    "    All_DF[years]=pd.read_csv(outputfilepath,low_memory=False)\n",
    "    \n",
    "\n"
   ]
  },
  {
   "cell_type": "code",
   "execution_count": 8,
   "metadata": {},
   "outputs": [
    {
     "data": {
      "text/html": [
       "<iframe id=\"igraph\" scrolling=\"no\" style=\"border:none;\" seamless=\"seamless\" src=\"https://plot.ly/~Aswathy_Mohan/77.embed\" height=\"525px\" width=\"100%\"></iframe>"
      ],
      "text/plain": [
       "<plotly.tools.PlotlyDisplay object>"
      ]
     },
     "execution_count": 8,
     "metadata": {},
     "output_type": "execute_result"
    }
   ],
   "source": [
    "df_table={}\n",
    "for years in year_list:\n",
    "    \n",
    "    DF=All_DF[years][[\"State\",\"Calc_MentalHealth_Value\"]]\n",
    "    #print(DF.head())\n",
    "    df_table[years] = DF.pivot_table(index='State', values='Calc_MentalHealth_Value', aggfunc='count')\n",
    "    df_table[years]=df_table[years].reset_index()\n",
    "    \n",
    "    \n",
    "    \n",
    "outputfilepath=os.path.join(\"..\",\"raw_data\",\"output\",\"MentalHealth2012.csv\")\n",
    "DF=pd.read_csv(outputfilepath)\n",
    "DF=DF[DF['Calc_MentalHealth_Value']>40]\n",
    "df_table= DF.pivot_table(index='State', values='Calc_MentalHealth_Value', aggfunc='count')\n",
    "trace1 = {\n",
    "  \"z\": df_table[\"Calc_MentalHealth_Value\"],\n",
    "  \"colorbar\": {\n",
    "    \"lenmode\": \"pixels\", \n",
    "    \"title\": \"\", \n",
    "    \"titleside\": \"right\", \n",
    "    \"xpad\": 0, \n",
    "    \"ypad\": 0\n",
    "  },\n",
    "\n",
    "  \"colorscale\": [\n",
    "      [0, \"#FFF5F0\"], \n",
    "      [0.111111111111, \"#FEE2D5\"], \n",
    "      [0.222222222222, \"#FDC3AC\"], \n",
    "      [0.333333333333, \"#FDA081\"], \n",
    "      [0.444444444444, \"#FC7C5C\"], \n",
    "      [0.555555555556, \"#F6573D\"], \n",
    "      [0.666666666667, \"#E33127\"], \n",
    "      [0.777777777778, \"#C2161B\"], \n",
    "      [0.888888888889, \"#9E0D14\"], \n",
    "      [1, \"#67000D\"]], \n",
    "  \"locationmode\": \"USA-states\", \n",
    "  \"locations\": df_table.index.values,\n",
    "  \"marker\": {\"line\": {\n",
    "      \"color\": \"rgba(255,255,255,1)\", \n",
    "      \"width\": 1\n",
    "    }}, \n",
    "  #\"text\": [\"Alabama <br> 6.79 per million people <br> 33 shootings since January 2015\", \"Alaska <br> 10.83 per million people <br> 8 shootings since January 2015\", \"Arizona <br> 9.52 per million people <br> 65 shootings since January 2015\", \"Arkansas <br> 4.03 per million people <br> 12 shootings since January 2015\", \"California <br> 6.49 per million people <br> 254 shootings since January 2015\", \"Colorado <br> 8.61 per million people <br> 47 shootings since January 2015\", \"Connecticut <br> 1.39 per million people <br> 5 shootings since January 2015\", \"Delaware <br> 4.23 per million people <br> 4 shootings since January 2015\", \"District of Columbia <br> 10.41 per million people <br> 7 shootings since January 2015\", \"Florida <br> 4.59 per million people <br> 93 shootings since January 2015\", \"Georgia <br> 4.41 per million people <br> 45 shootings since January 2015\", \"Hawaii <br> 4.19 per million people <br> 6 shootings since January 2015\", \"Idaho <br> 6.04 per million people <br> 10 shootings since January 2015\", \"Illinois <br> 2.8 per million people <br> 36 shootings since January 2015\", \"Indiana <br> 3.93 per million people <br> 26 shootings since January 2015\", \"Iowa <br> 2.56 per million people <br> 8 shootings since January 2015\", \"Kansas <br> 4.46 per million people <br> 13 shootings since January 2015\", \"Kentucky <br> 5.65 per million people <br> 25 shootings since January 2015\", \"Louisiana <br> 7.92 per million people <br> 37 shootings since January 2015\", \"Maine <br> 2.26 per million people <br> 3 shootings since January 2015\", \"Maryland <br> 3.66 per million people <br> 22 shootings since January 2015\", \"Massachusetts <br> 2.5 per million people <br> 17 shootings since January 2015\", \"Michigan <br> 2.22 per million people <br> 22 shootings since January 2015\", \"Minnesota <br> 3.46 per million people <br> 19 shootings since January 2015\", \"Mississippi <br> 5.01 per million people <br> 15 shootings since January 2015\", \"Missouri <br> 5.75 per million people <br> 35 shootings since January 2015\", \"Montana <br> 6.78 per million people <br> 7 shootings since January 2015\", \"Nebraska <br> 6.33 per million people <br> 12 shootings since January 2015\", \"Nevada <br> 8.65 per million people <br> 25 shootings since January 2015\", \"New Hampshire <br> 3.01 per million people <br> 4 shootings since January 2015\", \"New Jersey <br> 2.12 per million people <br> 19 shootings since January 2015\", \"New Mexico <br> 16.31 per million people <br> 34 shootings since January 2015\", \"New York <br> 1.46 per million people <br> 29 shootings since January 2015\", \"North Carolina <br> 3.98 per million people <br> 40 shootings since January 2015\", \"North Dakota <br> 2.64 per million people <br> 2 shootings since January 2015\", \"Ohio <br> 3.44 per million people <br> 40 shootings since January 2015\", \"Oklahoma <br> 10.74 per million people <br> 42 shootings since January 2015\", \"Oregon <br> 6.21 per million people <br> 25 shootings since January 2015\", \"Pennsylvania <br> 2.27 per million people <br> 29 shootings since January 2015\", \"Rhode Island <br> 1.89 per million people <br> 2 shootings since January 2015\", \"South Carolina <br> 5.31 per million people <br> 26 shootings since January 2015\", \"South Dakota <br> 8.15 per million people <br> 7 shootings since January 2015\", \"Tennessee <br> 4.7 per million people <br> 31 shootings since January 2015\", \"Texas <br> 5.21 per million people <br> 143 shootings since January 2015\", \"Utah <br> 4.67 per million people <br> 14 shootings since January 2015\", \"Vermont <br> 3.19 per million people <br> 2 shootings since January 2015\", \"Virginia <br> 3.7 per million people <br> 31 shootings since January 2015\", \"Washington <br> 3.9 per million people <br> 28 shootings since January 2015\", \"West Virginia <br> 7.05 per million people <br> 13 shootings since January 2015\", \"Wisconsin <br> 3.81 per million people <br> 22 shootings since January 2015\", \"Wyoming <br> 13.65 per million people <br> 8 shootings since January 2015\"], \n",
    "  \"type\": \"choropleth\"\n",
    "}\n",
    "data = Data([trace1])\n",
    "layout = {\n",
    "  \"geo\": {\"scope\": \"usa\"}, \n",
    "  \"title\": \"Mental Depression Across US\"\n",
    "}\n",
    "fig = Figure(data=data, layout=layout)\n",
    "py.iplot(fig)\n",
    "#print(years)"
   ]
  },
  {
   "cell_type": "code",
   "execution_count": null,
   "metadata": {
    "collapsed": true
   },
   "outputs": [],
   "source": [
    "print(\"Hi\")"
   ]
  },
  {
   "cell_type": "code",
   "execution_count": 1,
   "metadata": {
    "collapsed": true
   },
   "outputs": [],
   "source": [
    "import plotly\n",
    "import plotly.plotly as py\n",
    "\n",
    "import json\n",
    "import requests\n",
    "from requests.auth import HTTPBasicAuth\n",
    "\n",
    "username = 'Aswathy_Mohan' # Replace with YOUR USERNAME\n",
    "api_key = 'iXhlpq2JNpoFcXTBKbrf' # Replace with YOUR API KEY\n",
    "\n",
    "auth = HTTPBasicAuth(username, api_key)\n",
    "headers = {'Plotly-Client-Platform': 'python'}\n",
    "\n",
    "plotly.tools.set_credentials_file(username=username, api_key=api_key)\n",
    "\n",
    "def get_pages(username, page_size):\n",
    "    url = 'https://api.plot.ly/v2/folders/all?user='+username+'&page_size='+str(page_size)\n",
    "    response = requests.get(url, auth=auth, headers=headers)\n",
    "    if response.status_code != 200:\n",
    "        return\n",
    "    page = json.loads(response.content)\n",
    "    yield page\n",
    "    while True:\n",
    "        resource = page['children']['next'] \n",
    "        if not resource:\n",
    "            break\n",
    "        response = requests.get(resource, auth=auth, headers=headers)\n",
    "        if response.status_code != 200:\n",
    "            break\n",
    "        page = json.loads(response.content)\n",
    "        yield page\n",
    "        \n",
    "def permanently_delete_files(username, page_size=500, filetype_to_delete='plot'):\n",
    "    for page in get_pages(username, page_size):\n",
    "        for x in range(0, len(page['children']['results'])):\n",
    "            fid = page['children']['results'][x]['fid']\n",
    "            res = requests.get('https://api.plot.ly/v2/files/' + fid, auth=auth, headers=headers)\n",
    "            res.raise_for_status()\n",
    "            if res.status_code == 200:\n",
    "                json_res = json.loads(res.content)\n",
    "                if json_res['filetype'] == filetype_to_delete:\n",
    "                    # move to trash\n",
    "                    requests.post('https://api.plot.ly/v2/files/'+fid+'/trash', auth=auth, headers=headers)\n",
    "                    # permanently delete\n",
    "                    requests.delete('https://api.plot.ly/v2/files/'+fid+'/permanent_delete', auth=auth, headers=headers)\n",
    "\n",
    "permanently_delete_files(username, filetype_to_delete='plot')\n",
    "permanently_delete_files(username, filetype_to_delete='grid')"
   ]
  },
  {
   "cell_type": "code",
   "execution_count": null,
   "metadata": {
    "collapsed": true
   },
   "outputs": [],
   "source": []
  }
 ],
 "metadata": {
  "kernelspec": {
   "display_name": "Python 3",
   "language": "python",
   "name": "python3"
  },
  "language_info": {
   "codemirror_mode": {
    "name": "ipython",
    "version": 3
   },
   "file_extension": ".py",
   "mimetype": "text/x-python",
   "name": "python",
   "nbconvert_exporter": "python",
   "pygments_lexer": "ipython3",
   "version": "3.6.3"
  }
 },
 "nbformat": 4,
 "nbformat_minor": 2
}
